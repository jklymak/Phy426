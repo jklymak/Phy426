{
 "cells": [
  {
   "cell_type": "markdown",
   "metadata": {},
   "source": [
    "# Turbulence Lab Demo\n",
    "## (Using Household Objects)\n",
    "\n",
    "- By: Mathew Ens and Dezy Manuel"
   ]
  },
  {
   "cell_type": "markdown",
   "metadata": {},
   "source": [
    "## Introduction/Theory\n",
    "\n",
    "#### What is turbulence?\n",
    "\n",
    "* Turbulence is fluid motion in which there are chaotic changes in flow velocity and pressure\n",
    "* turbulence is strongly non-linear (making it hard to calculate)\n",
    "* Turbulent flow is characterized by high reynolds numbers\n",
    "* Examples of turbulence are:\n",
    "    - surfing\n",
    "    - fast flowing rivers\n",
    "    - weather and storm clouds\n",
    "    - smoke from a cigarette\n",
    "    - the flow over vehicles such as cars, airplanes, and submarines\n",
    "\n",
    "\n",
    "\n",
    "#### The reynolds number:\n",
    "\n",
    "The reynolds number is given by the following equation:\n",
    "\n",
    "$Re = \\frac{\\rho VD}{\\mu} = \\frac{UD}{\\nu}$\n",
    "\n",
    "where $\\rho$ = density of the fluid, V = U = velocity of the fluid, $\\mu$ = dynamic viscocity, $\\nu$ = kinematic viscocity = $\\frac{\\mu}{\\rho}$, and D = diameter\n",
    "\n",
    "* It is easier to produce turbulence in fluids that have low viscosity. I.e.) If you disturb Water and Corn Syrup in the same way, the water will have more turbulence\n",
    "* We will be producing turbulence in air and in water in the demos\n",
    "* The kinematic and dynamic viscocity for air and water are:\n",
    "\n",
    "Table 1: Dynamic and Kinematic Viscocities of Air and Water\n",
    "\n",
    "| Fluid Type | Dynamic Viscocity ($\\mu \\mathrm{Pa\\cdot s}$) @$27^{\\circ}$ C  | Kinematic Viscocity ($\\frac{m^2}{s}$)|  \n",
    "|---|---|---|\n",
    "| Water  | 900   | $1.0x10^{-6}$  | \n",
    "| Air  |  18  | $1.5x10^{-5}$  | \n",
    "\n",
    "\n",
    "\n",
    "\n",
    "\n",
    "#### Turbulence vs. Laminar Flow: \n",
    "\n",
    "Depending on the properties of a flow, it can be charactergorized as Laminar or Turbulent flow:\n",
    "\n",
    "* Turbulent flow has the following properties:\n",
    "    - Has chaotic fluid flow with flow instabilities\n",
    "    - Inertial forces dominate\n",
    "    - Have high reynolds Numbers (Re>4000)\n",
    "\n",
    "* Laminar flow has the following properties:\n",
    "\n",
    "    - Has smooth, constant fluid motion\n",
    "    - Viscous forces dominant\n",
    "    - Have low reynolds numbers (Re<2100)\n",
    "\n"
   ]
  },
  {
   "cell_type": "markdown",
   "metadata": {},
   "source": [
    "## Demo 1: Measuring Turbulent Airflow around a Box"
   ]
  },
  {
   "cell_type": "markdown",
   "metadata": {},
   "source": [
    "![Box_Stack_Demo.png](Demo_Images/Box_Stack_Demo.png)\n",
    "Figure 1: Measuring turbulent streamlines for the first box"
   ]
  },
  {
   "cell_type": "markdown",
   "metadata": {},
   "source": [
    "#### Description:\n",
    "\n",
    "In this demo, turbulent airflow is measured around a box. Since vortices occur on the downwind size of a building or obstacle, we can measure the distance where turbulent flow takes place on the downwind side of the box as a function of box height. This is done by measuring the streamlines of airflow from a fan using a “streamer”. The distance from the downwind side to where the turbulence dies off can be measured for different heights using three boxes.\n",
    "\n",
    "\n",
    "#### Apparatus:"
   ]
  },
  {
   "cell_type": "markdown",
   "metadata": {},
   "source": [
    "![fluids_demo_pic.jpg](Demo_Images/fluids_demo_pic.jpg)\n",
    "\n",
    "Figure 2: Diagram of Apparatus"
   ]
  },
  {
   "cell_type": "markdown",
   "metadata": {},
   "source": [
    "#### Materials:\n",
    "\n",
    "* three boxes of equal size\n",
    "* Measuring Tape\n",
    "* Fan\n",
    "* Long Pole\n",
    "* Streamer\n",
    "\n",
    "\n",
    "\n",
    "#### Procedure:\n",
    "\n",
    "First we tied streamer to the end of pole, and placed a box $42.5\\pm 0.1 \\mathrm{cm}$ in front of the fan with the fan on the highest setting. Standing off to the side of the fan, the streamer was held just below the top of the box on the downwind side and the streamer was slowly moved away from the box. Chaotic motion in the streamer characterized by turbulent flow was observed until the streamer direction began to flow only away from the fan, at which piont the pole was lowered to the ground, and the distance of the turbulent zone was measured from the box to the box using a measuring tape. This process was repeated three times for accuracy and then a new box was added on top and was repeated for a total of three boxes.\n",
    "\n",
    "#### Data/Results:\n",
    "\n",
    "- Distance from box to fan: d = (42.5 ± 0.1)cm\n",
    "- Width of fan: w_fan = (34 ± 0.1)cm\n",
    "- Thickness of box = (4.5 ± 0.1)cm\n",
    "- Width of box = (19 ± 0.1)cm\n",
    "\n",
    "Table 2: Box Heights for Box1, Box2, and Box3\n",
    "\n",
    "| Box # | Height (cm) |\n",
    "|---|---|\n",
    "| 1  | 900   | $14.0 \\pm 0.1$  | \n",
    "| 2 |  18  | $25.7 \\pm 0.1$  | \n",
    "| 3  |  18  | $35.9 \\pm 0.1$  |\n",
    "\n",
    "Table 3: Turbulent Distance Data\n",
    "\n",
    "| Box Type | 1 Box (cm)  | 2 Box (cm) | 3 Box (cm) |   \n",
    "|---|---|---|---|\n",
    "| Trial 1  | $24.5 \\pm 1.0$ | $64.0 \\pm 1.0$ | $21.0 \\pm 1.0$ |\n",
    "| Trial 2  | $27.5 \\pm 1.0$ | $52.5 \\pm 1.0$ | $16.5 \\pm 1.0$ |\n",
    "| Trial 3  | $24.0 \\pm 1.0$ | $63.0 \\pm 1.0$ | $16.0 \\pm 1.0$ |\n",
    "| Avg: | $25.3 \\pm 1.7$ | $59.8 \\pm 1.8$ | $17.8 \\pm 1.8$ |\n",
    "\n"
   ]
  },
  {
   "cell_type": "markdown",
   "metadata": {},
   "source": [
    "The following graphs are produced for the turbulent distance as a function of height for the boxes:"
   ]
  },
  {
   "cell_type": "markdown",
   "metadata": {},
   "source": [
    "![p426demo1.png](Demo_Images/p426demo1.png) "
   ]
  },
  {
   "cell_type": "markdown",
   "metadata": {},
   "source": [
    "![p426demo2.png](Demo_Images/p426demo2.png) "
   ]
  },
  {
   "cell_type": "markdown",
   "metadata": {},
   "source": [
    "The following data was obtained from the linear graph of the first two boxes:\n",
    "\n",
    "Slope: 2.949±1.8, Intercept: -15.95 cm, r-value: 1.0 (obvious since only two points were considered\n",
    "\n",
    "\n",
    "\n",
    "\n",
    "#### Summary/Conclusion:\n",
    "\n",
    "We were expecting a linear relationship between the turbulent distance and the height of the boxes. However, there was a linear relationship only between the first two boxes (although there will always be a line between two points). Possible errors in the experiment causing the third box to not obey this linear relationship include the fact that the initial assumption was that the boxes were suppose to be at the same height, but they instead had different heights. Additionally, the height of the third box exceeded the height of the fan, thus the flow was not straight as compared to with the other boxes."
   ]
  },
  {
   "cell_type": "markdown",
   "metadata": {},
   "source": [
    "## Demo 2: Turbulent Streamlines around Household Objects"
   ]
  },
  {
   "cell_type": "markdown",
   "metadata": {},
   "source": [
    "![Car_Smoke.png](Demo_Images/Car_Smoke.png) \n",
    "Figure 3: Flow around a toy car"
   ]
  },
  {
   "cell_type": "markdown",
   "metadata": {},
   "source": [
    "![iPhone_Smoke.png](Demo_Images/iPhone_Smoke.png) \n",
    "Figure 4: Flow around a cell phone"
   ]
  },
  {
   "cell_type": "markdown",
   "metadata": {},
   "source": [
    "#### Description:\n",
    "\n",
    "In this demo, the flow around a toy car and a cell phone are shown using smoke from incense. When fluid flows around a blunt object (like a car), regions of turbulence form. Since the fluid velocity is slow, we can observe some smooth streamlines in addition to eddies and turbulence. If the fluid flow was faster, more eddies would form which would make the fluid flow more turbulent and hard to predict.\n",
    "\n",
    "\n",
    "\n",
    "#### Apparatus:\n",
    "\n",
    "As seen in above images. A fan on a low setting blew smoke from incense over two household objects: a toy car and a cell phone.\n",
    "\n",
    "Materials: \n",
    "\n",
    "* Toy Car\n",
    "* Cell Phone\n",
    "* Incense (To visualize streamlines)\n",
    "* Fan at the lowest setting\n",
    "\n",
    "\n",
    "\n",
    "#### Procedure:\n",
    "\n",
    "A Fan on the lowest setting (so the smoke would not disspiate) was placed on a table infront of a toy car and a cell phone. Incense was used to show the turbulent streamlines over both objects.\n",
    "\n",
    "\n",
    "\n",
    "#### Results/Summary:\n",
    "\n",
    "The fluid velocity was slow in order to visualize the flow, thus some smooth streamlines as well as turbulent streamlines were shown.\n",
    "\n",
    "\n",
    "\n",
    "#### Applications:\n",
    "\n",
    "Engineers and scientists use CFD Analysis (Computational fluid Dynamics) to show velocities, pressure, gradients, and flow around objects. This is expecially useful to an engineer designing different kinds of objects, like buildings or cars to see how different fluids like air or water are going to interact with them. They might be interested in detecting turbulent flow around a car for example.\n"
   ]
  },
  {
   "cell_type": "markdown",
   "metadata": {},
   "source": [
    "## Demo 3: Turbulent vs. Laminar Flow in a Bottle"
   ]
  },
  {
   "cell_type": "markdown",
   "metadata": {},
   "source": [
    "![Turbulent_Bottle.png](Demo_Images/Turbulent_Bottle.png) \n",
    "Figure 5: Turbulent flow through a rough hole in the bottle"
   ]
  },
  {
   "cell_type": "markdown",
   "metadata": {},
   "source": [
    "![Laminar_Bottle.png](Demo_Images/Laminar_Bottle.png) \n",
    "Figure 6: Laminar flow through smooth hole of bottle"
   ]
  },
  {
   "cell_type": "markdown",
   "metadata": {},
   "source": [
    "#### Description:\n",
    "\n",
    "In this demo, the flow from two holes in a bottle is observed. We expect some eddies and turbulence from the rough, serrated hole, and we expected laminar flow for the smooth gradual hole.\n",
    "\n",
    "\n",
    "#### Apparatus:\n",
    "\n",
    "The apparatus is as shown in the above two pictures for this demo. A bottle with a smooth hole (the normal opening of a 2L pop bottle), and a serrated, rugged hole of approximately equal size on the bottom of the bottle. \n",
    "\n",
    "Materials:\n",
    "\n",
    "* Bottle with two holes:\n",
    "* One hole is rough and at the bottom of the bottle, and one hole is smooth and has a gradual transition.\n",
    "* Food colouring: red for laminar flow, blue for turbulent\n",
    "* Water \n",
    "\n",
    "\n",
    "#### Procedure:\n",
    "\n",
    "A serrated, jagged hole was cut on the bottom of a 2L bottle. Water with blue dye was put in the bottle using a hose, and the water was allowed to flow through that hole, creating turbulent flow. Then, water was filled again into the bottle and red dye was put inside. The bottle was flipped upside down and water was allowed to flow through the smooth hole, creating laminar flow.\n",
    "\n",
    "\n",
    "\n",
    "#### Results/Summary:\n",
    "\n",
    "Turbulent flow was observed through a roughly cut hole in the bottle, in which the friction on the water due to the ragged plastic of the bottle created small edies and vortices. Laminar flow was observed from a smooth hole of approximately the same size. The laminar flow occured quicker than the turbulent flow, due to the way the bottle is shaped with a gradual transition in volume to the smooth hole, and due the friction of the jagged hole with the water slowing it down.\n"
   ]
  },
  {
   "cell_type": "markdown",
   "metadata": {},
   "source": [
    "# Link to Turbulence Demo Video:\n",
    "\n",
    "## Our Demo was made as a video. Click **[here](https://drive.google.com/open?id=19A1OgERyI9LskWXDE6vMp4L1svkKvmxs)** to view the turbulence demo through google drive."
   ]
  }
 ],
 "metadata": {
  "kernelspec": {
   "display_name": "Python 3",
   "language": "python",
   "name": "python3"
  },
  "language_info": {
   "codemirror_mode": {
    "name": "ipython",
    "version": 3
   },
   "file_extension": ".py",
   "mimetype": "text/x-python",
   "name": "python",
   "nbconvert_exporter": "python",
   "pygments_lexer": "ipython3",
   "version": "3.7.3"
  }
 },
 "nbformat": 4,
 "nbformat_minor": 4
}
