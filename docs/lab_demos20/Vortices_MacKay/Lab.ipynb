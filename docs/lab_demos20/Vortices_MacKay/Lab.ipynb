{
 "cells": [
  {
   "cell_type": "markdown",
   "metadata": {},
   "source": [
    "# Vortices \n",
    "\n",
    "### Vortex Shedding from cylinder:\n",
    "\n",
    "#### Apparatus: \n",
    "cylinder, adjustable frame, track, AC motor, reflective particles, water, tank.\n",
    "\n",
    "#### Procedure: \n",
    "\n",
    "The flow around the cylinder through the liquid will have different behaviour based on the speed. This can be found using Reynolds number described below. The cylinder is pulled through the liquid attached the track held above the liquid.   \n",
    "\n",
    "The behavior of the flow can be determined using the Reynolds number. Reynolds number R is given by:\n",
    "<center> $R = \\frac{Ud}{\\nu}$ </center>\n",
    "Where U is flow past cylinder, d is diameter and v is viscous effects. \n",
    "\n",
    "##### Reynolds number dependencies: \n",
    "\n",
    "- R < 5\n",
    "\n",
    "The flow past cylinder will display non separating flow flow, which will have zero rotation. When an appropriate speed is used which gives R < 5, the flow past the cylinder will be laminar. This can be achieved by setting the speed on the AC motor so that there is a constant speed.  \n",
    "\n",
    "https://www.youtube.com/watch?v=59qWGBdGEdI\n",
    "\n",
    "- 5 < R < 40\n",
    "\n",
    "The flow will have fixed vortices with edges touching in the center of the back of cylinder. Using a higher speed than before the flow past the cylinder will start to have some rotation, it is still not high enough to have have shedding. \n",
    "\n",
    "https://www.youtube.com/watch?v=7ixgy0Xs7Zs\n",
    "\n",
    "- 40 < R < 150 \n",
    "\n",
    "At this speed which gives approprite R, vortices can be seen shedding off from the central line of motion of the cyliner. Making sure that the liquid is stirred thoroughly, these vortices can be shown. \n",
    "\n",
    "https://www.youtube.com/watch?v=RAgGb9fg3us\n",
    "\n",
    "### Smoke rings: \n",
    "\n",
    "#### Apparatus: \n",
    "Vortex ring canon, smoke. \n",
    "\n",
    "#### Procedure: \n",
    "Smoke rings are demonstrated by filling the vortex ring canon with smoke by using the smoke machine, or incense. Lightly tap the back of canon to create a slow-moving vortex ring.\n",
    "\n",
    "https://www.youtube.com/watch?v=5vKqbzrHm4k\n"
   ]
  },
  {
   "cell_type": "code",
   "execution_count": null,
   "metadata": {},
   "outputs": [],
   "source": []
  }
 ],
 "metadata": {
  "kernelspec": {
   "display_name": "Python 3",
   "language": "python",
   "name": "python3"
  },
  "language_info": {
   "codemirror_mode": {
    "name": "ipython",
    "version": 3
   },
   "file_extension": ".py",
   "mimetype": "text/x-python",
   "name": "python",
   "nbconvert_exporter": "python",
   "pygments_lexer": "ipython3",
   "version": "3.7.3"
  }
 },
 "nbformat": 4,
 "nbformat_minor": 2
}
