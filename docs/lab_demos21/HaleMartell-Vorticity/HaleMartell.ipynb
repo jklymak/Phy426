{
 "cells": [
  {
   "cell_type": "markdown",
   "metadata": {},
   "source": [
    "## Fluid Flow Around a Cylinder\n",
    "\n",
    "### Cathryn Hale and Joshua Martel; *Spring 2021*"
   ]
  },
  {
   "cell_type": "markdown",
   "metadata": {},
   "source": [
    "### Apparatus:\n",
    "Tank, track with circular cylinder attached, plastic blocks, phone, dye, “mermaid scales”.\n",
    "### Procedure:\n",
    "For fluid around a cylinder, we started by filling our clear tank of dimensions roughly 1m length, 10cm wide and 35cm tall, with water until the waterline was about 5cm high. Then we added “mermaid scales” (small, shiny particles) to cause the water to become opaque and reflective, and then added dark, purple dye for better visibility. Then we placed the tank on top of a couple of plastic blocks to raise the tank to allow the cylinder hanging from the slide track to be sufficiently submerged (say 2-4cm) and placed the cylinder within the water, and the track over the tank, parallel with the length of the tank so the cylinder is centred along the width. Once setup, one of us held our phone below the track facing downwards towards the water to record the flow and the other pulled by hand on the cord controlling the movement of the cylinder. To obtain the various flows, we adjusted the speed as needed.\n",
    "\n",
    "### Theory:\n",
    "Depending on the speed of the flow around the cylinder, different forms of flow separation will occur. The behaviour of these flows can be predicted using an empirical scalar value called a Reynold’s Number:\n",
    "\n",
    "R=Luρ/μ ,\n",
    "\n",
    "where u is the fluid speed, 𝜌 is the density, 𝜇 is its viscosity, and L is the characteristic length or characteristic linear dimension.\n"
   ]
  },
  {
   "cell_type": "markdown",
   "metadata": {},
   "source": [
    "-\tLow Reynold’s numbers, R < 10, fluids exhibit inviscid characteristics. The flow is non rotational and moves  evenly around the cylinder."
   ]
  },
  {
   "cell_type": "code",
   "execution_count": 2,
   "metadata": {},
   "outputs": [
    {
     "data": {
      "text/html": [
       "<video src=\"Low_Reynolds.mp4\" controls  >\n",
       "      Your browser does not support the <code>video</code> element.\n",
       "    </video>"
      ],
      "text/plain": [
       "<IPython.core.display.Video object>"
      ]
     },
     "execution_count": 2,
     "metadata": {},
     "output_type": "execute_result"
    }
   ],
   "source": [
    "from IPython.display import Video\n",
    "\n",
    "Video(\"Low_Reynolds.mp4\")"
   ]
  },
  {
   "cell_type": "markdown",
   "metadata": {},
   "source": [
    "-\tReynold’s numbers around 90 correspond to turbulent flows giving nice flow separations known as shedding."
   ]
  },
  {
   "cell_type": "code",
   "execution_count": 3,
   "metadata": {
    "scrolled": true
   },
   "outputs": [
    {
     "data": {
      "text/html": [
       "<video src=\"Medium_Reynolds.mp4\" controls  >\n",
       "      Your browser does not support the <code>video</code> element.\n",
       "    </video>"
      ],
      "text/plain": [
       "<IPython.core.display.Video object>"
      ]
     },
     "execution_count": 3,
     "metadata": {},
     "output_type": "execute_result"
    }
   ],
   "source": [
    "Video(\"Medium_Reynolds.mp4\")"
   ]
  },
  {
   "cell_type": "markdown",
   "metadata": {},
   "source": [
    "-\tReynold’s numbers in the thousands experience drags lines and very strong flow shedding giving chaotic flow separation, but these flows dissipate very quickly, and you can observe the slower flows catching up in space.\n"
   ]
  },
  {
   "cell_type": "code",
   "execution_count": 7,
   "metadata": {},
   "outputs": [
    {
     "data": {
      "text/html": [
       "<video src=\"High_Reynolds_Above1.mp4\" controls  >\n",
       "      Your browser does not support the <code>video</code> element.\n",
       "    </video>"
      ],
      "text/plain": [
       "<IPython.core.display.Video object>"
      ]
     },
     "execution_count": 7,
     "metadata": {},
     "output_type": "execute_result"
    }
   ],
   "source": [
    "Video(\"High_Reynolds_Above1.mp4\")"
   ]
  },
  {
   "cell_type": "markdown",
   "metadata": {},
   "source": [
    "## Tips for Future experiments:\n",
    "- Darker dyes show up better on camera due to the light background\n",
    "- The motor for the cylinder vibrated a lot on slow speeds and it was easier to have one person pull on the wire while the other person followed the flow from above with a camera."
   ]
  },
  {
   "cell_type": "markdown",
   "metadata": {},
   "source": [
    "## Smoke Rings\n",
    "\n",
    "Helmholtz's theorems for vortex motions state that the strength of a vortex tube is constant along its length, and therefore the tube cannot end within the fluid. It can end at a solid boundary, the free surface of the fluid, or it can form a closed loop. A vortex in a loop will act as two vortices spinning in opposite directions, and will travel in the same direction at a speed of $\\Gamma / (2 \\pi h)$ where $\\Gamma$ is the strength of the vortex and $h$ is the distance between the sides. If there are no outside forces the ring could move through the fluid indefinitely (Kundu et al., 2016). \n",
    "\n",
    "A vortex ring can be formed by forcing fluid through a small opening to cause boundary layer separation in a closed shape. Using smoke to increase visibility, we can observe them travelling through the air. \n",
    "\n",
    "### Apparatus\n",
    "\n",
    "- Smoke ring cannon or gun\n",
    "\n",
    "- Smoke generator\n",
    "\n",
    "- Tape.\n",
    "\n",
    "### Procedure\n",
    "\n",
    "The chamber of the cannon was filled with smoke and the base of the cannon was set on a stable surface. To form the rings, the air was forced out of the opening of the chamber by striking the membrane at the back. We discovered that the most stable rings were formed when the drumstick was placed against the membrane and lightly tapped. The shape of the opening was changed for the experiments using tape, an idea we got from a video (Cowern, 2018). \n",
    "\n",
    "##### Circular Smoke Rings\n",
    "All points of the vortex were an equal distance apart. They moved evenly across the room until they dissipated. \n",
    "\n",
    "<!-- blank line -->\n",
    "<figure class=\"video_container\">\n",
    "  <iframe src=\"https://www.youtube.com/embed/nFv5QRxdTw0\" frameborder=\"0\" allowfullscreen=\"true\"> </iframe>\n",
    "</figure>\n",
    "<!-- blank line -->\n",
    "\n",
    "https://youtu.be/nFv5QRxdTw0\n",
    "\n",
    "##### Square Smoke Rings\n",
    "The angles created differences in distance and velocity along the rings, causing them to wobble as they moved. The angles moved along the rings so that they oscillated between a square and a diamond until they lost their shape or dissipated. \n",
    "\n",
    "<!-- blank line -->\n",
    "<figure class=\"video_container\">\n",
    "  <iframe src=\"https://www.youtube.com/embed/n4N6EY3U57I\" frameborder=\"0\" allowfullscreen=\"true\"> </iframe>\n",
    "</figure>\n",
    "<!-- blank line -->\n",
    "\n",
    "https://youtu.be/n4N6EY3U57I\n",
    "\n",
    "##### Rectangular Smoke Rings\n",
    "The wobble in the rings was more obvious when there was a difference in length and width. However, the smaller opening increased the the amount of turbulence, so the membrane had to be tapped with less force. The slower initial velocity and the shape instability were likely factors in the shorter lifespan and distance travelled. \n",
    "\n",
    "<!-- blank line -->\n",
    "<figure class=\"video_container\">\n",
    "  <iframe src=\"https://www.youtube.com/embed/K9hiPbUeFrU\" frameborder=\"0\" allowfullscreen=\"true\"> </iframe>\n",
    "</figure>\n",
    "<!-- blank line -->\n",
    "\n",
    "https://youtu.be/K9hiPbUeFrU\n",
    "\n",
    "##### Triangular Smoke Rings\n",
    "The rings did not hold the triangle shape for very long, but they could be seen oscillating briefly in front of the cannon. The majority drifted downwards rather than travelling across the room. This may have been caused by the angle at the top of the opening, which was slightly smaller than the other angles. \n",
    "\n",
    "<!-- blank line -->\n",
    "<figure class=\"video_container\">\n",
    "  <iframe src=\"https://www.youtube.com/embed/XiY03sELYsI\" frameborder=\"0\" allowfullscreen=\"true\"> </iframe>\n",
    "</figure>\n",
    "<!-- blank line -->\n",
    "\n",
    "https://youtu.be/XiY03sELYsI\n",
    "\n",
    "##### Hints and Suggestions\n",
    "\n",
    "- The rings were more difficult to see on camera than they were in person. The visibility could have been improved by covering the lights in the background. \n",
    "\n",
    "- A cannon with a larger opening would allow more experimentation with ring shapes.\n",
    "\n",
    "- Change the angles and orientation of the triangle opening to test the hypothesis that the top angle caused the rings to drift downwards. \n",
    "\n",
    "### References\n",
    "\n",
    "Kundu, P. K., & Cohen, I. M. (2016). Fluid mechanics. Elsevier Academic Press.\n",
    "\n",
    "Cowern, Diana. [Physics Girl]. (2018, Nov 7). How to Make a SQUARE Vortex Ring! ft. 3blue1brown [Video]. YouTube. https://www.youtube.com/watch?v=N7d_RWyOv20"
   ]
  },
  {
   "cell_type": "code",
   "execution_count": null,
   "metadata": {},
   "outputs": [],
   "source": []
  }
 ],
 "metadata": {
  "kernelspec": {
   "display_name": "Python 3",
   "language": "python",
   "name": "python3"
  },
  "language_info": {
   "codemirror_mode": {
    "name": "ipython",
    "version": 3
   },
   "file_extension": ".py",
   "mimetype": "text/x-python",
   "name": "python",
   "nbconvert_exporter": "python",
   "pygments_lexer": "ipython3",
   "version": "3.8.5"
  },
  "toc": {
   "base_numbering": 1,
   "nav_menu": {},
   "number_sections": true,
   "sideBar": true,
   "skip_h1_title": false,
   "title_cell": "Table of Contents",
   "title_sidebar": "Contents",
   "toc_cell": false,
   "toc_position": {},
   "toc_section_display": true,
   "toc_window_display": false
  }
 },
 "nbformat": 4,
 "nbformat_minor": 2
}
