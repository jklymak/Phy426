{
 "cells": [
  {
   "cell_type": "markdown",
   "id": "7553348a-520e-425f-aaf4-98de9465796d",
   "metadata": {
    "editable": true,
    "slideshow": {
     "slide_type": ""
    },
    "tags": []
   },
   "source": [
    "# Assignment 1: Hydraulic flow over a weir\n",
    "\n",
    "Here we will examine many aspects of flow over a weir.  You will need a python environment that has numpy, scipy, matplotlib, ipympl, tqdm, netcdf4 and xarray installed.  \n",
    "\n",
    "As of 15 Jan this is preliminary.  The last question (Q4) in particular is subject to change.  \n",
    "\n",
    "For hints on using xarray and netCDF files, please see https://jklymak.github.io/Eos431Phy441/computing/analyze_veros.html#netcdf-and-xarray, and feel free to ask questions.  However, it is almost alwats the same as using numpy, just data sets are stored as one structure.\n"
   ]
  },
  {
   "cell_type": "code",
   "execution_count": 323,
   "id": "d0233ddd-543c-40dd-ad79-486dae01b6a3",
   "metadata": {
    "editable": true,
    "slideshow": {
     "slide_type": ""
    },
    "tags": []
   },
   "outputs": [],
   "source": [
    "import matplotlib.pyplot as plt\n",
    "import numpy as np\n",
    "import xarray as xr\n",
    "%matplotlib ipympl\n",
    "\n",
    "from sve_hybrid import run_modelFVM"
   ]
  },
  {
   "cell_type": "markdown",
   "id": "ec456bee-3de9-473f-b412-2ad7eaf6659f",
   "metadata": {
    "editable": true,
    "slideshow": {
     "slide_type": ""
    },
    "tags": []
   },
   "source": [
    "## Q1: setup:\n",
    "\n",
    "Run the model as below.  Note that it will take a while, depending on the speed of your machine.  \n",
    "\n",
    "This model solves the shallow-water equations in 1-D.  There is a 25-m long channel, with a 0.2-m high, 1.6-m half-width Gaussian bump at $x=10\\ \\mathrm{m}$ (`zb` below.).  The channel is a constanty 1-m wide (`b`).  The flow starts of with 0 velocity transport (`Q = np.zeros(nx)`).  The left (upstream) side of the channel starts with a height of $0.13\\ \\mathrm{m}$, and the right (downstream) side with a height of $0.33\\ \\mathrm{m}$.  \n",
    "\n",
    "The boundary condition on the right side is that the resevoir depth cannot change (eg, $h(x=25) = 0.33$, but the flow rate can be whatever we want.).  On the left side ($x=0\\ \\mathrm{m}$), the depth can be any value, but the flow rate is always a constant $Q_{up} = 0.18\\ \\mathrm{m^3\\,s^{-1}}$.  The model has a harmonic diffusion of both $Q$, the flow rate,  and $A$ the cross sectional area of the flow.  \n",
    "\n",
    "The model returns a matrix of $A(t, x)$ and $Q(t,x)$, saved every `saveT` timesteps, with each row representing a time step.  So `A[10,:]` is $A(t=10^4\\,\\delta t, x)$ the 10th saved timestep.  \n",
    "\n",
    "Note because the simulation takes a while, it is a good idea to save the data, and then only run the model again if you need to. I strongly prefer `xarray` for saving data like this, as the data is all in one file, and has dimensions attached for clarity."
   ]
  },
  {
   "cell_type": "code",
   "execution_count": 337,
   "id": "2c7b3d0b-0d12-4420-a66b-21c3edaeabad",
   "metadata": {
    "editable": true,
    "slideshow": {
     "slide_type": ""
    },
    "tags": []
   },
   "outputs": [
    {
     "name": "stdout",
     "output_type": "stream",
     "text": [
      "0.18\n"
     ]
    },
    {
     "name": "stderr",
     "output_type": "stream",
     "text": [
      "Running model:   5%|▌         | 784/15000 [00:00<00:01, 7832.63it/s]"
     ]
    },
    {
     "name": "stdout",
     "output_type": "stream",
     "text": [
      "upstream subcritical\n",
      "upstream subcritical\n"
     ]
    },
    {
     "name": "stderr",
     "output_type": "stream",
     "text": [
      "Running model: 100%|██████████| 15000/15000 [00:01<00:00, 9034.93it/s]\n"
     ]
    },
    {
     "data": {
      "text/html": [
       "<div><svg style=\"position: absolute; width: 0; height: 0; overflow: hidden\">\n",
       "<defs>\n",
       "<symbol id=\"icon-database\" viewBox=\"0 0 32 32\">\n",
       "<path d=\"M16 0c-8.837 0-16 2.239-16 5v4c0 2.761 7.163 5 16 5s16-2.239 16-5v-4c0-2.761-7.163-5-16-5z\"></path>\n",
       "<path d=\"M16 17c-8.837 0-16-2.239-16-5v6c0 2.761 7.163 5 16 5s16-2.239 16-5v-6c0 2.761-7.163 5-16 5z\"></path>\n",
       "<path d=\"M16 26c-8.837 0-16-2.239-16-5v6c0 2.761 7.163 5 16 5s16-2.239 16-5v-6c0 2.761-7.163 5-16 5z\"></path>\n",
       "</symbol>\n",
       "<symbol id=\"icon-file-text2\" viewBox=\"0 0 32 32\">\n",
       "<path d=\"M28.681 7.159c-0.694-0.947-1.662-2.053-2.724-3.116s-2.169-2.030-3.116-2.724c-1.612-1.182-2.393-1.319-2.841-1.319h-15.5c-1.378 0-2.5 1.121-2.5 2.5v27c0 1.378 1.122 2.5 2.5 2.5h23c1.378 0 2.5-1.122 2.5-2.5v-19.5c0-0.448-0.137-1.23-1.319-2.841zM24.543 5.457c0.959 0.959 1.712 1.825 2.268 2.543h-4.811v-4.811c0.718 0.556 1.584 1.309 2.543 2.268zM28 29.5c0 0.271-0.229 0.5-0.5 0.5h-23c-0.271 0-0.5-0.229-0.5-0.5v-27c0-0.271 0.229-0.5 0.5-0.5 0 0 15.499-0 15.5 0v7c0 0.552 0.448 1 1 1h7v19.5z\"></path>\n",
       "<path d=\"M23 26h-14c-0.552 0-1-0.448-1-1s0.448-1 1-1h14c0.552 0 1 0.448 1 1s-0.448 1-1 1z\"></path>\n",
       "<path d=\"M23 22h-14c-0.552 0-1-0.448-1-1s0.448-1 1-1h14c0.552 0 1 0.448 1 1s-0.448 1-1 1z\"></path>\n",
       "<path d=\"M23 18h-14c-0.552 0-1-0.448-1-1s0.448-1 1-1h14c0.552 0 1 0.448 1 1s-0.448 1-1 1z\"></path>\n",
       "</symbol>\n",
       "</defs>\n",
       "</svg>\n",
       "<style>/* CSS stylesheet for displaying xarray objects in jupyterlab.\n",
       " *\n",
       " */\n",
       "\n",
       ":root {\n",
       "  --xr-font-color0: var(--jp-content-font-color0, rgba(0, 0, 0, 1));\n",
       "  --xr-font-color2: var(--jp-content-font-color2, rgba(0, 0, 0, 0.54));\n",
       "  --xr-font-color3: var(--jp-content-font-color3, rgba(0, 0, 0, 0.38));\n",
       "  --xr-border-color: var(--jp-border-color2, #e0e0e0);\n",
       "  --xr-disabled-color: var(--jp-layout-color3, #bdbdbd);\n",
       "  --xr-background-color: var(--jp-layout-color0, white);\n",
       "  --xr-background-color-row-even: var(--jp-layout-color1, white);\n",
       "  --xr-background-color-row-odd: var(--jp-layout-color2, #eeeeee);\n",
       "}\n",
       "\n",
       "html[theme=\"dark\"],\n",
       "html[data-theme=\"dark\"],\n",
       "body[data-theme=\"dark\"],\n",
       "body.vscode-dark {\n",
       "  --xr-font-color0: rgba(255, 255, 255, 1);\n",
       "  --xr-font-color2: rgba(255, 255, 255, 0.54);\n",
       "  --xr-font-color3: rgba(255, 255, 255, 0.38);\n",
       "  --xr-border-color: #1f1f1f;\n",
       "  --xr-disabled-color: #515151;\n",
       "  --xr-background-color: #111111;\n",
       "  --xr-background-color-row-even: #111111;\n",
       "  --xr-background-color-row-odd: #313131;\n",
       "}\n",
       "\n",
       ".xr-wrap {\n",
       "  display: block !important;\n",
       "  min-width: 300px;\n",
       "  max-width: 700px;\n",
       "}\n",
       "\n",
       ".xr-text-repr-fallback {\n",
       "  /* fallback to plain text repr when CSS is not injected (untrusted notebook) */\n",
       "  display: none;\n",
       "}\n",
       "\n",
       ".xr-header {\n",
       "  padding-top: 6px;\n",
       "  padding-bottom: 6px;\n",
       "  margin-bottom: 4px;\n",
       "  border-bottom: solid 1px var(--xr-border-color);\n",
       "}\n",
       "\n",
       ".xr-header > div,\n",
       ".xr-header > ul {\n",
       "  display: inline;\n",
       "  margin-top: 0;\n",
       "  margin-bottom: 0;\n",
       "}\n",
       "\n",
       ".xr-obj-type,\n",
       ".xr-array-name {\n",
       "  margin-left: 2px;\n",
       "  margin-right: 10px;\n",
       "}\n",
       "\n",
       ".xr-obj-type {\n",
       "  color: var(--xr-font-color2);\n",
       "}\n",
       "\n",
       ".xr-sections {\n",
       "  padding-left: 0 !important;\n",
       "  display: grid;\n",
       "  grid-template-columns: 150px auto auto 1fr 0 20px 0 20px;\n",
       "}\n",
       "\n",
       ".xr-section-item {\n",
       "  display: contents;\n",
       "}\n",
       "\n",
       ".xr-section-item input {\n",
       "  display: inline-block;\n",
       "  opacity: 0;\n",
       "  height: 0;\n",
       "}\n",
       "\n",
       ".xr-section-item input + label {\n",
       "  color: var(--xr-disabled-color);\n",
       "}\n",
       "\n",
       ".xr-section-item input:enabled + label {\n",
       "  cursor: pointer;\n",
       "  color: var(--xr-font-color2);\n",
       "}\n",
       "\n",
       ".xr-section-item input:focus + label {\n",
       "  border: 2px solid var(--xr-font-color0);\n",
       "}\n",
       "\n",
       ".xr-section-item input:enabled + label:hover {\n",
       "  color: var(--xr-font-color0);\n",
       "}\n",
       "\n",
       ".xr-section-summary {\n",
       "  grid-column: 1;\n",
       "  color: var(--xr-font-color2);\n",
       "  font-weight: 500;\n",
       "}\n",
       "\n",
       ".xr-section-summary > span {\n",
       "  display: inline-block;\n",
       "  padding-left: 0.5em;\n",
       "}\n",
       "\n",
       ".xr-section-summary-in:disabled + label {\n",
       "  color: var(--xr-font-color2);\n",
       "}\n",
       "\n",
       ".xr-section-summary-in + label:before {\n",
       "  display: inline-block;\n",
       "  content: \"►\";\n",
       "  font-size: 11px;\n",
       "  width: 15px;\n",
       "  text-align: center;\n",
       "}\n",
       "\n",
       ".xr-section-summary-in:disabled + label:before {\n",
       "  color: var(--xr-disabled-color);\n",
       "}\n",
       "\n",
       ".xr-section-summary-in:checked + label:before {\n",
       "  content: \"▼\";\n",
       "}\n",
       "\n",
       ".xr-section-summary-in:checked + label > span {\n",
       "  display: none;\n",
       "}\n",
       "\n",
       ".xr-section-summary,\n",
       ".xr-section-inline-details {\n",
       "  padding-top: 4px;\n",
       "  padding-bottom: 4px;\n",
       "}\n",
       "\n",
       ".xr-section-inline-details {\n",
       "  grid-column: 2 / -1;\n",
       "}\n",
       "\n",
       ".xr-section-details {\n",
       "  display: none;\n",
       "  grid-column: 1 / -1;\n",
       "  margin-bottom: 5px;\n",
       "}\n",
       "\n",
       ".xr-section-summary-in:checked ~ .xr-section-details {\n",
       "  display: contents;\n",
       "}\n",
       "\n",
       ".xr-array-wrap {\n",
       "  grid-column: 1 / -1;\n",
       "  display: grid;\n",
       "  grid-template-columns: 20px auto;\n",
       "}\n",
       "\n",
       ".xr-array-wrap > label {\n",
       "  grid-column: 1;\n",
       "  vertical-align: top;\n",
       "}\n",
       "\n",
       ".xr-preview {\n",
       "  color: var(--xr-font-color3);\n",
       "}\n",
       "\n",
       ".xr-array-preview,\n",
       ".xr-array-data {\n",
       "  padding: 0 5px !important;\n",
       "  grid-column: 2;\n",
       "}\n",
       "\n",
       ".xr-array-data,\n",
       ".xr-array-in:checked ~ .xr-array-preview {\n",
       "  display: none;\n",
       "}\n",
       "\n",
       ".xr-array-in:checked ~ .xr-array-data,\n",
       ".xr-array-preview {\n",
       "  display: inline-block;\n",
       "}\n",
       "\n",
       ".xr-dim-list {\n",
       "  display: inline-block !important;\n",
       "  list-style: none;\n",
       "  padding: 0 !important;\n",
       "  margin: 0;\n",
       "}\n",
       "\n",
       ".xr-dim-list li {\n",
       "  display: inline-block;\n",
       "  padding: 0;\n",
       "  margin: 0;\n",
       "}\n",
       "\n",
       ".xr-dim-list:before {\n",
       "  content: \"(\";\n",
       "}\n",
       "\n",
       ".xr-dim-list:after {\n",
       "  content: \")\";\n",
       "}\n",
       "\n",
       ".xr-dim-list li:not(:last-child):after {\n",
       "  content: \",\";\n",
       "  padding-right: 5px;\n",
       "}\n",
       "\n",
       ".xr-has-index {\n",
       "  font-weight: bold;\n",
       "}\n",
       "\n",
       ".xr-var-list,\n",
       ".xr-var-item {\n",
       "  display: contents;\n",
       "}\n",
       "\n",
       ".xr-var-item > div,\n",
       ".xr-var-item label,\n",
       ".xr-var-item > .xr-var-name span {\n",
       "  background-color: var(--xr-background-color-row-even);\n",
       "  margin-bottom: 0;\n",
       "}\n",
       "\n",
       ".xr-var-item > .xr-var-name:hover span {\n",
       "  padding-right: 5px;\n",
       "}\n",
       "\n",
       ".xr-var-list > li:nth-child(odd) > div,\n",
       ".xr-var-list > li:nth-child(odd) > label,\n",
       ".xr-var-list > li:nth-child(odd) > .xr-var-name span {\n",
       "  background-color: var(--xr-background-color-row-odd);\n",
       "}\n",
       "\n",
       ".xr-var-name {\n",
       "  grid-column: 1;\n",
       "}\n",
       "\n",
       ".xr-var-dims {\n",
       "  grid-column: 2;\n",
       "}\n",
       "\n",
       ".xr-var-dtype {\n",
       "  grid-column: 3;\n",
       "  text-align: right;\n",
       "  color: var(--xr-font-color2);\n",
       "}\n",
       "\n",
       ".xr-var-preview {\n",
       "  grid-column: 4;\n",
       "}\n",
       "\n",
       ".xr-index-preview {\n",
       "  grid-column: 2 / 5;\n",
       "  color: var(--xr-font-color2);\n",
       "}\n",
       "\n",
       ".xr-var-name,\n",
       ".xr-var-dims,\n",
       ".xr-var-dtype,\n",
       ".xr-preview,\n",
       ".xr-attrs dt {\n",
       "  white-space: nowrap;\n",
       "  overflow: hidden;\n",
       "  text-overflow: ellipsis;\n",
       "  padding-right: 10px;\n",
       "}\n",
       "\n",
       ".xr-var-name:hover,\n",
       ".xr-var-dims:hover,\n",
       ".xr-var-dtype:hover,\n",
       ".xr-attrs dt:hover {\n",
       "  overflow: visible;\n",
       "  width: auto;\n",
       "  z-index: 1;\n",
       "}\n",
       "\n",
       ".xr-var-attrs,\n",
       ".xr-var-data,\n",
       ".xr-index-data {\n",
       "  display: none;\n",
       "  background-color: var(--xr-background-color) !important;\n",
       "  padding-bottom: 5px !important;\n",
       "}\n",
       "\n",
       ".xr-var-attrs-in:checked ~ .xr-var-attrs,\n",
       ".xr-var-data-in:checked ~ .xr-var-data,\n",
       ".xr-index-data-in:checked ~ .xr-index-data {\n",
       "  display: block;\n",
       "}\n",
       "\n",
       ".xr-var-data > table {\n",
       "  float: right;\n",
       "}\n",
       "\n",
       ".xr-var-name span,\n",
       ".xr-var-data,\n",
       ".xr-index-name div,\n",
       ".xr-index-data,\n",
       ".xr-attrs {\n",
       "  padding-left: 25px !important;\n",
       "}\n",
       "\n",
       ".xr-attrs,\n",
       ".xr-var-attrs,\n",
       ".xr-var-data,\n",
       ".xr-index-data {\n",
       "  grid-column: 1 / -1;\n",
       "}\n",
       "\n",
       "dl.xr-attrs {\n",
       "  padding: 0;\n",
       "  margin: 0;\n",
       "  display: grid;\n",
       "  grid-template-columns: 125px auto;\n",
       "}\n",
       "\n",
       ".xr-attrs dt,\n",
       ".xr-attrs dd {\n",
       "  padding: 0;\n",
       "  margin: 0;\n",
       "  float: left;\n",
       "  padding-right: 10px;\n",
       "  width: auto;\n",
       "}\n",
       "\n",
       ".xr-attrs dt {\n",
       "  font-weight: normal;\n",
       "  grid-column: 1;\n",
       "}\n",
       "\n",
       ".xr-attrs dt:hover span {\n",
       "  display: inline-block;\n",
       "  background: var(--xr-background-color);\n",
       "  padding-right: 10px;\n",
       "}\n",
       "\n",
       ".xr-attrs dd {\n",
       "  grid-column: 2;\n",
       "  white-space: pre-wrap;\n",
       "  word-break: break-all;\n",
       "}\n",
       "\n",
       ".xr-icon-database,\n",
       ".xr-icon-file-text2,\n",
       ".xr-no-icon {\n",
       "  display: inline-block;\n",
       "  vertical-align: middle;\n",
       "  width: 1em;\n",
       "  height: 1.5em !important;\n",
       "  stroke-width: 0;\n",
       "  stroke: currentColor;\n",
       "  fill: currentColor;\n",
       "}\n",
       "</style><pre class='xr-text-repr-fallback'>&lt;xarray.Dataset&gt; Size: 611kB\n",
       "Dimensions:  (x: 250, time: 151)\n",
       "Coordinates:\n",
       "  * x        (x) float64 2kB 0.0 0.1 0.2 0.3 0.4 ... 24.5 24.6 24.7 24.8 24.9\n",
       "  * time     (time) float64 1kB 0.0 1.0 2.0 3.0 4.0 ... 147.0 148.0 149.0 150.0\n",
       "Data variables:\n",
       "    A        (time, x) float64 302kB 0.13 0.13 0.13 0.13 ... 0.0 0.0 0.0 0.0\n",
       "    Q        (time, x) float64 302kB 0.0 0.0 0.0 0.0 0.0 ... 0.0 0.0 0.0 0.0 0.0\n",
       "    zb       (x) float64 2kB 0.0 0.0 0.0 0.0 0.0 0.0 ... 0.0 0.0 0.0 0.0 0.0 0.0\n",
       "    b        (x) float64 2kB 1.0 1.0 1.0 1.0 1.0 1.0 ... 1.0 1.0 1.0 1.0 1.0 1.0\n",
       "    Qup      float64 8B 0.18\n",
       "    Adown    float64 8B 0.33\n",
       "Attributes:\n",
       "    description:  Made with run_modelFVM(nTimes, saveT, dt, dx, zb, b, A, Q, ...</pre><div class='xr-wrap' style='display:none'><div class='xr-header'><div class='xr-obj-type'>xarray.Dataset</div></div><ul class='xr-sections'><li class='xr-section-item'><input id='section-039c3511-a5e3-4866-b86b-f26f0b6be24d' class='xr-section-summary-in' type='checkbox' disabled ><label for='section-039c3511-a5e3-4866-b86b-f26f0b6be24d' class='xr-section-summary'  title='Expand/collapse section'>Dimensions:</label><div class='xr-section-inline-details'><ul class='xr-dim-list'><li><span class='xr-has-index'>x</span>: 250</li><li><span class='xr-has-index'>time</span>: 151</li></ul></div><div class='xr-section-details'></div></li><li class='xr-section-item'><input id='section-3f672b5a-f3a5-4529-89f7-b002a39baf8f' class='xr-section-summary-in' type='checkbox'  checked><label for='section-3f672b5a-f3a5-4529-89f7-b002a39baf8f' class='xr-section-summary' >Coordinates: <span>(2)</span></label><div class='xr-section-inline-details'></div><div class='xr-section-details'><ul class='xr-var-list'><li class='xr-var-item'><div class='xr-var-name'><span class='xr-has-index'>x</span></div><div class='xr-var-dims'>(x)</div><div class='xr-var-dtype'>float64</div><div class='xr-var-preview xr-preview'>0.0 0.1 0.2 0.3 ... 24.7 24.8 24.9</div><input id='attrs-93fd1dce-9c71-4eb6-8ee9-2d3f57e2c276' class='xr-var-attrs-in' type='checkbox' ><label for='attrs-93fd1dce-9c71-4eb6-8ee9-2d3f57e2c276' title='Show/Hide attributes'><svg class='icon xr-icon-file-text2'><use xlink:href='#icon-file-text2'></use></svg></label><input id='data-c45750ad-e42a-4697-b164-cb01f855a1c2' class='xr-var-data-in' type='checkbox'><label for='data-c45750ad-e42a-4697-b164-cb01f855a1c2' title='Show/Hide data repr'><svg class='icon xr-icon-database'><use xlink:href='#icon-database'></use></svg></label><div class='xr-var-attrs'><dl class='xr-attrs'><dt><span>description :</span></dt><dd>x [m]</dd></dl></div><div class='xr-var-data'><pre>array([ 0. ,  0.1,  0.2, ..., 24.7, 24.8, 24.9])</pre></div></li><li class='xr-var-item'><div class='xr-var-name'><span class='xr-has-index'>time</span></div><div class='xr-var-dims'>(time)</div><div class='xr-var-dtype'>float64</div><div class='xr-var-preview xr-preview'>0.0 1.0 2.0 ... 148.0 149.0 150.0</div><input id='attrs-88f4e6ca-202d-4edd-b322-a9e685a54145' class='xr-var-attrs-in' type='checkbox' ><label for='attrs-88f4e6ca-202d-4edd-b322-a9e685a54145' title='Show/Hide attributes'><svg class='icon xr-icon-file-text2'><use xlink:href='#icon-file-text2'></use></svg></label><input id='data-55634373-e3b6-4d9a-90b7-4aa6db33d1e1' class='xr-var-data-in' type='checkbox'><label for='data-55634373-e3b6-4d9a-90b7-4aa6db33d1e1' title='Show/Hide data repr'><svg class='icon xr-icon-database'><use xlink:href='#icon-database'></use></svg></label><div class='xr-var-attrs'><dl class='xr-attrs'><dt><span>description :</span></dt><dd>time [s]</dd></dl></div><div class='xr-var-data'><pre>array([  0.,   1.,   2.,   3.,   4.,   5.,   6.,   7.,   8.,   9.,  10.,  11.,\n",
       "        12.,  13.,  14.,  15.,  16.,  17.,  18.,  19.,  20.,  21.,  22.,  23.,\n",
       "        24.,  25.,  26.,  27.,  28.,  29.,  30.,  31.,  32.,  33.,  34.,  35.,\n",
       "        36.,  37.,  38.,  39.,  40.,  41.,  42.,  43.,  44.,  45.,  46.,  47.,\n",
       "        48.,  49.,  50.,  51.,  52.,  53.,  54.,  55.,  56.,  57.,  58.,  59.,\n",
       "        60.,  61.,  62.,  63.,  64.,  65.,  66.,  67.,  68.,  69.,  70.,  71.,\n",
       "        72.,  73.,  74.,  75.,  76.,  77.,  78.,  79.,  80.,  81.,  82.,  83.,\n",
       "        84.,  85.,  86.,  87.,  88.,  89.,  90.,  91.,  92.,  93.,  94.,  95.,\n",
       "        96.,  97.,  98.,  99., 100., 101., 102., 103., 104., 105., 106., 107.,\n",
       "       108., 109., 110., 111., 112., 113., 114., 115., 116., 117., 118., 119.,\n",
       "       120., 121., 122., 123., 124., 125., 126., 127., 128., 129., 130., 131.,\n",
       "       132., 133., 134., 135., 136., 137., 138., 139., 140., 141., 142., 143.,\n",
       "       144., 145., 146., 147., 148., 149., 150.])</pre></div></li></ul></div></li><li class='xr-section-item'><input id='section-261189d9-82c5-450c-9100-b166cd952462' class='xr-section-summary-in' type='checkbox'  checked><label for='section-261189d9-82c5-450c-9100-b166cd952462' class='xr-section-summary' >Data variables: <span>(6)</span></label><div class='xr-section-inline-details'></div><div class='xr-section-details'><ul class='xr-var-list'><li class='xr-var-item'><div class='xr-var-name'><span>A</span></div><div class='xr-var-dims'>(time, x)</div><div class='xr-var-dtype'>float64</div><div class='xr-var-preview xr-preview'>0.13 0.13 0.13 0.13 ... 0.0 0.0 0.0</div><input id='attrs-1b6dd301-e49d-4959-8668-aacc38853a64' class='xr-var-attrs-in' type='checkbox' ><label for='attrs-1b6dd301-e49d-4959-8668-aacc38853a64' title='Show/Hide attributes'><svg class='icon xr-icon-file-text2'><use xlink:href='#icon-file-text2'></use></svg></label><input id='data-b7219a68-7096-41d7-80c9-183f8c9436ca' class='xr-var-data-in' type='checkbox'><label for='data-b7219a68-7096-41d7-80c9-183f8c9436ca' title='Show/Hide data repr'><svg class='icon xr-icon-database'><use xlink:href='#icon-database'></use></svg></label><div class='xr-var-attrs'><dl class='xr-attrs'><dt><span>description :</span></dt><dd>Cross-sectional area [m^2]</dd></dl></div><div class='xr-var-data'><pre>array([[0.13      , 0.13      , 0.13      , ..., 0.33      , 0.33      ,\n",
       "        0.33      ],\n",
       "       [0.23366298, 0.23366298, 0.23240055, ..., 0.33      , 0.33      ,\n",
       "        0.33      ],\n",
       "       [0.23217104, 0.23217104, 0.23225329, ..., 0.33      , 0.33      ,\n",
       "        0.33      ],\n",
       "       ...,\n",
       "       [0.41366968, 0.41366968, 0.41366968, ..., 0.32996879, 0.32998245,\n",
       "        0.33      ],\n",
       "       [0.41366968, 0.41366968, 0.41366968, ..., 0.32996924, 0.32998269,\n",
       "        0.33      ],\n",
       "       [0.        , 0.        , 0.        , ..., 0.        , 0.        ,\n",
       "        0.        ]])</pre></div></li><li class='xr-var-item'><div class='xr-var-name'><span>Q</span></div><div class='xr-var-dims'>(time, x)</div><div class='xr-var-dtype'>float64</div><div class='xr-var-preview xr-preview'>0.0 0.0 0.0 0.0 ... 0.0 0.0 0.0 0.0</div><input id='attrs-f1683b15-3702-487a-b8c0-2171c0159a1d' class='xr-var-attrs-in' type='checkbox' ><label for='attrs-f1683b15-3702-487a-b8c0-2171c0159a1d' title='Show/Hide attributes'><svg class='icon xr-icon-file-text2'><use xlink:href='#icon-file-text2'></use></svg></label><input id='data-2a82f6bc-743d-49e4-8530-1db395a7953a' class='xr-var-data-in' type='checkbox'><label for='data-2a82f6bc-743d-49e4-8530-1db395a7953a' title='Show/Hide data repr'><svg class='icon xr-icon-database'><use xlink:href='#icon-database'></use></svg></label><div class='xr-var-attrs'><dl class='xr-attrs'><dt><span>description :</span></dt><dd>Flow rate [m^3/s]</dd></dl></div><div class='xr-var-data'><pre>array([[ 0.00000000e+000,  0.00000000e+000,  0.00000000e+000, ...,\n",
       "         0.00000000e+000,  0.00000000e+000,  0.00000000e+000],\n",
       "       [ 1.80000000e-001,  1.84319255e-001,  1.80701659e-001, ...,\n",
       "         4.65166678e-101,  1.44084245e-200,  5.56565255e-201],\n",
       "       [ 1.80000000e-001,  1.79771955e-001,  1.80044071e-001, ...,\n",
       "        -1.41715452e-073,  6.52828661e-147,  3.46034114e-147],\n",
       "       ...,\n",
       "       [ 1.80000000e-001,  1.80000000e-001,  1.80000000e-001, ...,\n",
       "         1.81335861e-001,  1.81331430e-001,  1.81336019e-001],\n",
       "       [ 1.80000000e-001,  1.80000000e-001,  1.80000000e-001, ...,\n",
       "         1.80877358e-001,  1.80872617e-001,  1.80877121e-001],\n",
       "       [ 0.00000000e+000,  0.00000000e+000,  0.00000000e+000, ...,\n",
       "         0.00000000e+000,  0.00000000e+000,  0.00000000e+000]])</pre></div></li><li class='xr-var-item'><div class='xr-var-name'><span>zb</span></div><div class='xr-var-dims'>(x)</div><div class='xr-var-dtype'>float64</div><div class='xr-var-preview xr-preview'>0.0 0.0 0.0 0.0 ... 0.0 0.0 0.0 0.0</div><input id='attrs-59779098-3f98-4fe8-a262-479476984536' class='xr-var-attrs-in' type='checkbox' ><label for='attrs-59779098-3f98-4fe8-a262-479476984536' title='Show/Hide attributes'><svg class='icon xr-icon-file-text2'><use xlink:href='#icon-file-text2'></use></svg></label><input id='data-8dd003a6-6ffe-4c19-8a67-6ee3cf28c37f' class='xr-var-data-in' type='checkbox'><label for='data-8dd003a6-6ffe-4c19-8a67-6ee3cf28c37f' title='Show/Hide data repr'><svg class='icon xr-icon-database'><use xlink:href='#icon-database'></use></svg></label><div class='xr-var-attrs'><dl class='xr-attrs'><dt><span>description :</span></dt><dd>topography [m]</dd></dl></div><div class='xr-var-data'><pre>array([0.    , 0.    , 0.    , 0.    , 0.    , 0.    , 0.    , 0.    ,\n",
       "       0.    , 0.    , 0.    , 0.    , 0.    , 0.    , 0.    , 0.    ,\n",
       "       0.    , 0.    , 0.    , 0.    , 0.    , 0.    , 0.    , 0.    ,\n",
       "       0.    , 0.    , 0.    , 0.    , 0.    , 0.    , 0.    , 0.    ,\n",
       "       0.    , 0.    , 0.    , 0.    , 0.    , 0.    , 0.    , 0.    ,\n",
       "       0.    , 0.    , 0.    , 0.    , 0.    , 0.    , 0.    , 0.    ,\n",
       "       0.    , 0.    , 0.    , 0.    , 0.    , 0.    , 0.    , 0.    ,\n",
       "       0.    , 0.    , 0.    , 0.    , 0.    , 0.    , 0.    , 0.    ,\n",
       "       0.    , 0.    , 0.    , 0.    , 0.    , 0.    , 0.    , 0.    ,\n",
       "       0.    , 0.    , 0.    , 0.    , 0.    , 0.    , 0.    , 0.    ,\n",
       "       0.    , 0.0195, 0.038 , 0.0555, 0.072 , 0.0875, 0.102 , 0.1155,\n",
       "       0.128 , 0.1395, 0.15  , 0.1595, 0.168 , 0.1755, 0.182 , 0.1875,\n",
       "       0.192 , 0.1955, 0.198 , 0.1995, 0.2   , 0.1995, 0.198 , 0.1955,\n",
       "       0.192 , 0.1875, 0.182 , 0.1755, 0.168 , 0.1595, 0.15  , 0.1395,\n",
       "       0.128 , 0.1155, 0.102 , 0.0875, 0.072 , 0.0555, 0.038 , 0.0195,\n",
       "       0.    , 0.    , 0.    , 0.    , 0.    , 0.    , 0.    , 0.    ,\n",
       "       0.    , 0.    , 0.    , 0.    , 0.    , 0.    , 0.    , 0.    ,\n",
       "       0.    , 0.    , 0.    , 0.    , 0.    , 0.    , 0.    , 0.    ,\n",
       "       0.    , 0.    , 0.    , 0.    , 0.    , 0.    , 0.    , 0.    ,\n",
       "       0.    , 0.    , 0.    , 0.    , 0.    , 0.    , 0.    , 0.    ,\n",
       "       0.    , 0.    , 0.    , 0.    , 0.    , 0.    , 0.    , 0.    ,\n",
       "       0.    , 0.    , 0.    , 0.    , 0.    , 0.    , 0.    , 0.    ,\n",
       "       0.    , 0.    , 0.    , 0.    , 0.    , 0.    , 0.    , 0.    ,\n",
       "       0.    , 0.    , 0.    , 0.    , 0.    , 0.    , 0.    , 0.    ,\n",
       "       0.    , 0.    , 0.    , 0.    , 0.    , 0.    , 0.    , 0.    ,\n",
       "       0.    , 0.    , 0.    , 0.    , 0.    , 0.    , 0.    , 0.    ,\n",
       "       0.    , 0.    , 0.    , 0.    , 0.    , 0.    , 0.    , 0.    ,\n",
       "       0.    , 0.    , 0.    , 0.    , 0.    , 0.    , 0.    , 0.    ,\n",
       "       0.    , 0.    , 0.    , 0.    , 0.    , 0.    , 0.    , 0.    ,\n",
       "       0.    , 0.    , 0.    , 0.    , 0.    , 0.    , 0.    , 0.    ,\n",
       "       0.    , 0.    , 0.    , 0.    , 0.    , 0.    , 0.    , 0.    ,\n",
       "       0.    , 0.    ])</pre></div></li><li class='xr-var-item'><div class='xr-var-name'><span>b</span></div><div class='xr-var-dims'>(x)</div><div class='xr-var-dtype'>float64</div><div class='xr-var-preview xr-preview'>1.0 1.0 1.0 1.0 ... 1.0 1.0 1.0 1.0</div><input id='attrs-be77f862-6adf-46bc-822f-9dbc27a65adb' class='xr-var-attrs-in' type='checkbox' ><label for='attrs-be77f862-6adf-46bc-822f-9dbc27a65adb' title='Show/Hide attributes'><svg class='icon xr-icon-file-text2'><use xlink:href='#icon-file-text2'></use></svg></label><input id='data-ab627371-6c73-48cf-9a79-3804781778a5' class='xr-var-data-in' type='checkbox'><label for='data-ab627371-6c73-48cf-9a79-3804781778a5' title='Show/Hide data repr'><svg class='icon xr-icon-database'><use xlink:href='#icon-database'></use></svg></label><div class='xr-var-attrs'><dl class='xr-attrs'><dt><span>description :</span></dt><dd>channel width [m]</dd></dl></div><div class='xr-var-data'><pre>array([1., 1., 1., 1., 1., 1., 1., 1., 1., 1., 1., 1., 1., 1., 1., 1., 1.,\n",
       "       1., 1., 1., 1., 1., 1., 1., 1., 1., 1., 1., 1., 1., 1., 1., 1., 1.,\n",
       "       1., 1., 1., 1., 1., 1., 1., 1., 1., 1., 1., 1., 1., 1., 1., 1., 1.,\n",
       "       1., 1., 1., 1., 1., 1., 1., 1., 1., 1., 1., 1., 1., 1., 1., 1., 1.,\n",
       "       1., 1., 1., 1., 1., 1., 1., 1., 1., 1., 1., 1., 1., 1., 1., 1., 1.,\n",
       "       1., 1., 1., 1., 1., 1., 1., 1., 1., 1., 1., 1., 1., 1., 1., 1., 1.,\n",
       "       1., 1., 1., 1., 1., 1., 1., 1., 1., 1., 1., 1., 1., 1., 1., 1., 1.,\n",
       "       1., 1., 1., 1., 1., 1., 1., 1., 1., 1., 1., 1., 1., 1., 1., 1., 1.,\n",
       "       1., 1., 1., 1., 1., 1., 1., 1., 1., 1., 1., 1., 1., 1., 1., 1., 1.,\n",
       "       1., 1., 1., 1., 1., 1., 1., 1., 1., 1., 1., 1., 1., 1., 1., 1., 1.,\n",
       "       1., 1., 1., 1., 1., 1., 1., 1., 1., 1., 1., 1., 1., 1., 1., 1., 1.,\n",
       "       1., 1., 1., 1., 1., 1., 1., 1., 1., 1., 1., 1., 1., 1., 1., 1., 1.,\n",
       "       1., 1., 1., 1., 1., 1., 1., 1., 1., 1., 1., 1., 1., 1., 1., 1., 1.,\n",
       "       1., 1., 1., 1., 1., 1., 1., 1., 1., 1., 1., 1., 1., 1., 1., 1., 1.,\n",
       "       1., 1., 1., 1., 1., 1., 1., 1., 1., 1., 1., 1.])</pre></div></li><li class='xr-var-item'><div class='xr-var-name'><span>Qup</span></div><div class='xr-var-dims'>()</div><div class='xr-var-dtype'>float64</div><div class='xr-var-preview xr-preview'>0.18</div><input id='attrs-de555f39-9ac4-45af-831d-32356bf64314' class='xr-var-attrs-in' type='checkbox' ><label for='attrs-de555f39-9ac4-45af-831d-32356bf64314' title='Show/Hide attributes'><svg class='icon xr-icon-file-text2'><use xlink:href='#icon-file-text2'></use></svg></label><input id='data-55acfcbd-f111-43c0-8c35-9d8dc767b8d1' class='xr-var-data-in' type='checkbox'><label for='data-55acfcbd-f111-43c0-8c35-9d8dc767b8d1' title='Show/Hide data repr'><svg class='icon xr-icon-database'><use xlink:href='#icon-database'></use></svg></label><div class='xr-var-attrs'><dl class='xr-attrs'><dt><span>description :</span></dt><dd>upstream forcing [m^3/s]</dd></dl></div><div class='xr-var-data'><pre>array(0.18)</pre></div></li><li class='xr-var-item'><div class='xr-var-name'><span>Adown</span></div><div class='xr-var-dims'>()</div><div class='xr-var-dtype'>float64</div><div class='xr-var-preview xr-preview'>0.33</div><input id='attrs-13b0f0fc-af21-4b0b-af4f-96527a138591' class='xr-var-attrs-in' type='checkbox' ><label for='attrs-13b0f0fc-af21-4b0b-af4f-96527a138591' title='Show/Hide attributes'><svg class='icon xr-icon-file-text2'><use xlink:href='#icon-file-text2'></use></svg></label><input id='data-5bb3d499-308d-4f70-a603-892231e639cf' class='xr-var-data-in' type='checkbox'><label for='data-5bb3d499-308d-4f70-a603-892231e639cf' title='Show/Hide data repr'><svg class='icon xr-icon-database'><use xlink:href='#icon-database'></use></svg></label><div class='xr-var-attrs'><dl class='xr-attrs'><dt><span>description :</span></dt><dd>downstream reservoir cross section [m^2]</dd></dl></div><div class='xr-var-data'><pre>array(0.33)</pre></div></li></ul></div></li><li class='xr-section-item'><input id='section-ecaf1b0c-c835-43b2-917f-59821e691b44' class='xr-section-summary-in' type='checkbox'  ><label for='section-ecaf1b0c-c835-43b2-917f-59821e691b44' class='xr-section-summary' >Indexes: <span>(2)</span></label><div class='xr-section-inline-details'></div><div class='xr-section-details'><ul class='xr-var-list'><li class='xr-var-item'><div class='xr-index-name'><div>x</div></div><div class='xr-index-preview'>PandasIndex</div><input type='checkbox' disabled/><label></label><input id='index-93e6ffa2-3ef0-4495-a790-35329a33420a' class='xr-index-data-in' type='checkbox'/><label for='index-93e6ffa2-3ef0-4495-a790-35329a33420a' title='Show/Hide index repr'><svg class='icon xr-icon-database'><use xlink:href='#icon-database'></use></svg></label><div class='xr-index-data'><pre>PandasIndex(Index([                0.0,                 0.1,                 0.2,\n",
       "       0.30000000000000004,                 0.4,                 0.5,\n",
       "        0.6000000000000001,  0.7000000000000001,                 0.8,\n",
       "                       0.9,\n",
       "       ...\n",
       "                      24.0,                24.1,  24.200000000000003,\n",
       "                      24.3,  24.400000000000002,                24.5,\n",
       "                      24.6,  24.700000000000003,                24.8,\n",
       "        24.900000000000002],\n",
       "      dtype=&#x27;float64&#x27;, name=&#x27;x&#x27;, length=250))</pre></div></li><li class='xr-var-item'><div class='xr-index-name'><div>time</div></div><div class='xr-index-preview'>PandasIndex</div><input type='checkbox' disabled/><label></label><input id='index-71e747fa-456c-4e7a-9abe-fe2598fe8c31' class='xr-index-data-in' type='checkbox'/><label for='index-71e747fa-456c-4e7a-9abe-fe2598fe8c31' title='Show/Hide index repr'><svg class='icon xr-icon-database'><use xlink:href='#icon-database'></use></svg></label><div class='xr-index-data'><pre>PandasIndex(Index([  0.0,   1.0,   2.0,   3.0,   4.0,   5.0,   6.0,   7.0,   8.0,   9.0,\n",
       "       ...\n",
       "       141.0, 142.0, 143.0, 144.0, 145.0, 146.0, 147.0, 148.0, 149.0, 150.0],\n",
       "      dtype=&#x27;float64&#x27;, name=&#x27;time&#x27;, length=151))</pre></div></li></ul></div></li><li class='xr-section-item'><input id='section-c36946f1-5b34-4b21-b539-54cbecc6d355' class='xr-section-summary-in' type='checkbox'  checked><label for='section-c36946f1-5b34-4b21-b539-54cbecc6d355' class='xr-section-summary' >Attributes: <span>(1)</span></label><div class='xr-section-inline-details'></div><div class='xr-section-details'><dl class='xr-attrs'><dt><span>description :</span></dt><dd>Made with run_modelFVM(nTimes, saveT, dt, dx, zb, b, A, Q, Qup=Qup, Aup=None, kappa=0, A4=1e-4, Manning=0.0 * b, drylim=drylim, Adown=A[-1])</dd></dl></div></li></ul></div></div>"
      ],
      "text/plain": [
       "<xarray.Dataset> Size: 611kB\n",
       "Dimensions:  (x: 250, time: 151)\n",
       "Coordinates:\n",
       "  * x        (x) float64 2kB 0.0 0.1 0.2 0.3 0.4 ... 24.5 24.6 24.7 24.8 24.9\n",
       "  * time     (time) float64 1kB 0.0 1.0 2.0 3.0 4.0 ... 147.0 148.0 149.0 150.0\n",
       "Data variables:\n",
       "    A        (time, x) float64 302kB 0.13 0.13 0.13 0.13 ... 0.0 0.0 0.0 0.0\n",
       "    Q        (time, x) float64 302kB 0.0 0.0 0.0 0.0 0.0 ... 0.0 0.0 0.0 0.0 0.0\n",
       "    zb       (x) float64 2kB 0.0 0.0 0.0 0.0 0.0 0.0 ... 0.0 0.0 0.0 0.0 0.0 0.0\n",
       "    b        (x) float64 2kB 1.0 1.0 1.0 1.0 1.0 1.0 ... 1.0 1.0 1.0 1.0 1.0 1.0\n",
       "    Qup      float64 8B 0.18\n",
       "    Adown    float64 8B 0.33\n",
       "Attributes:\n",
       "    description:  Made with run_modelFVM(nTimes, saveT, dt, dx, zb, b, A, Q, ..."
      ]
     },
     "metadata": {},
     "output_type": "display_data"
    },
    {
     "data": {
      "application/vnd.jupyter.widget-view+json": {
       "model_id": "a5b5ab8404e1408a9c1d9e709aa3516d",
       "version_major": 2,
       "version_minor": 0
      },
      "image/png": "[encoded data removed]",
      "text/html": [
       "\n",
       "            <div style=\"display: inline-block;\">\n",
       "                <div class=\"jupyter-widgets widget-label\" style=\"text-align: center;\">\n",
       "                    Figure\n",
       "                </div>\n",
       "                <img src='data:image/png;base64,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' width=640.0/>\n",
       "            </div>\n",
       "        "
      ],
      "text/plain": [
       "Canvas(toolbar=Toolbar(toolitems=[('Home', 'Reset original view', 'home', 'home'), ('Back', 'Back to previous …"
      ]
     },
     "metadata": {},
     "output_type": "display_data"
    }
   ],
   "source": [
    "# Case 3 transcritical bump\n",
    "nTimes = 15_000\n",
    "saveT = 100\n",
    "dt = 0.01\n",
    "time = np.arange(0, dt*nTimes+1, saveT*dt)\n",
    "\n",
    "dx = 0.1   # m \n",
    "nx = 250 \n",
    "x = np.arange(0, dx*nx, dx)\n",
    "#x = x\n",
    "# width:\n",
    "b = np.ones(nx)  # width in m.\n",
    "\n",
    "Manning = 0.0014 + 0*b # friction\n",
    "Manning = 0.0 * Manning\n",
    "# Manning[:30] = 0\n",
    "drylim = 1e-10\n",
    "\n",
    "# Bottom\n",
    "zb = np.zeros(nx)\n",
    "zb[(x>=8.0) & (x<=12)] = 0.2 - 0.05*(x[(x>=8.0) & (x<=12)]-10)**2\n",
    "#zb = 0.2*np.exp(-((x-10)/1.6)**2)\n",
    "\n",
    "# initial height\n",
    "h = 0.13 - zb\n",
    "h[x>10] = 0.33 - zb[x>10]\n",
    "A = h * b\n",
    "drylim=1e-3\n",
    "\n",
    "# inital flow\n",
    "Qup = 0.18\n",
    "u0 = Qup / A[0]\n",
    "print(Qup)\n",
    "\n",
    "Q = np.zeros(nx) + 0* u0*A # Flow rate m^3/s\n",
    "#Q = np.zeros(nx) + Qup # Flow rate m^3/s\n",
    "\n",
    "Q[(A/b)<drylim] = 0.0\n",
    "A[(A/b)<drylim]= drylim * b[(A/b)<drylim]\n",
    "\n",
    "\n",
    "if True:\n",
    "    saveA, saveQ = run_modelFVM(nTimes, saveT, dt, dx, zb, b, A, Q, Qup=Qup, Aup=None, \n",
    "                         kappa=0*3e-1/16, \n",
    "                         K4=10e-5, Manning=Manning, drylim=drylim, Adown=A[-1])\n",
    "    #saveA, saveQ = run_modelFVM(nTimes, saveT, dt, dx, zb, b, A, Q, Qup=Qup, Aup=None, \n",
    "    #                            kappa=.5e-1/16, Manning=0.0 * b, drylim=drylim, Adown=A[-1])\n",
    "\n",
    "    # Save the model output to a netcdf file.  \n",
    "    ds = xr.Dataset(coords={'x':x, 'time':time})\n",
    "    ds.attrs['description'] = 'Made with run_modelFVM(nTimes, saveT, dt, dx, zb, b, A, Q, Qup=Qup, Aup=None, kappa=0, A4=1e-4, Manning=0.0 * b, drylim=drylim, Adown=A[-1])'\n",
    "    ds['x'].attrs['description'] = 'x [m]'\n",
    "    ds['time'].attrs['description'] = 'time [s]'\n",
    "    ds['A'] = (('time', 'x'), saveA)\n",
    "    ds['A'].attrs['description'] =  'Cross-sectional area [m^2]'\n",
    "    \n",
    "    ds['Q'] = (('time', 'x'), saveQ)\n",
    "    ds['Q'].attrs['description'] =  'Flow rate [m^3/s]'\n",
    "    \n",
    "    ds['zb'] = (('x'), zb)\n",
    "    ds['zb'].attrs['description'] =  'topography [m]'\n",
    "    ds['b'] = (('x'), b)\n",
    "    ds['b'].attrs['description'] =  'channel width [m]'\n",
    "    ds['Qup'] = ((), Qup)\n",
    "    ds['Qup'].attrs['description'] =  'upstream forcing [m^3/s]'\n",
    "    ds['Adown'] = ((), A[-1])\n",
    "    ds['Adown'].attrs['description'] =  'downstream reservoir cross section [m^2]'\n",
    "    ds.to_netcdf('ModelRunAssign01_01B.nc')\n",
    "else: \n",
    "    ds = xr.open_dataset('ModelRunAssign01_01B.nc')\n",
    "fig, ax = plt.subplots()\n",
    "ax.plot(ds.x, ds.zb, linewidth=2, color='k')\n",
    "ax.plot(ds.x, ds.zb+ds.sel(time=0).A, linewidth=1, color='C0')\n",
    "ax.set(xlabel='x [m]', ylabel='z [m]', title='Initial conditions')\n",
    "display(ds)"
   ]
  },
  {
   "cell_type": "markdown",
   "id": "a9a7da0d-a79a-4136-b9ac-2664b7274aa3",
   "metadata": {
    "editable": true,
    "slideshow": {
     "slide_type": ""
    },
    "tags": []
   },
   "source": [
    "### Q1.1 Plot\n",
    "\n",
    "Plot the raw data versus x.  I like plotting all of it, and then highlighting the initial and final conditions with a thicker line.  Note that while the model returns $A$ you probably want to plot $z+h$, the height of the free surface.  However, I usually prefer plotting $Q$ rather than $u$.\n",
    "\n",
    "Please label your plots!"
   ]
  },
  {
   "cell_type": "code",
   "execution_count": null,
   "id": "603bad82-0f24-4a73-92a8-81f94d5827d1",
   "metadata": {
    "editable": true,
    "slideshow": {
     "slide_type": ""
    },
    "tags": [
     "answer"
    ]
   },
   "outputs": [],
   "source": [
    "# Code/plotting answer here (use more cells if desired)"
   ]
  },
  {
   "cell_type": "markdown",
   "id": "54cd7b43-1828-4c59-bb4e-2c4c01d37179",
   "metadata": {
    "editable": true,
    "slideshow": {
     "slide_type": ""
    },
    "tags": []
   },
   "source": [
    "### Q1.2 Hovmoller diagram\n",
    "\n",
    "It is also often useful in fluid mechanics to plot a Hovmoller diagram.  this is your quantity of interest colored by value, versus $x$ and $t$ (eg use `pcolormesh`)"
   ]
  },
  {
   "cell_type": "code",
   "execution_count": null,
   "id": "16f68e69-36db-45b5-b67c-8dc55357af05",
   "metadata": {
    "editable": true,
    "slideshow": {
     "slide_type": ""
    },
    "tags": [
     "answer"
    ]
   },
   "outputs": [],
   "source": [
    "# Code/plotting answer here (use more cells if desired)"
   ]
  },
  {
   "cell_type": "markdown",
   "id": "4df1b072-113f-4a1e-bb30-4ea7c796bbc2",
   "metadata": {
    "editable": true,
    "slideshow": {
     "slide_type": ""
    },
    "tags": []
   },
   "source": [
    "### Q1.3 Describe\n",
    "\n",
    "Very briefly describe the stages of simulation, perhaps extract a few time slices to make your point. \n",
    "\n",
    "Note `dd = ds.sel(time=10, method='nearest')` will return a new dataset `dd` that only has one time in it, at the closest time to 10 s that exists in `ds`"
   ]
  },
  {
   "cell_type": "code",
   "execution_count": null,
   "id": "587ee5a5-9c3c-4514-ad13-6c953e047248",
   "metadata": {
    "editable": true,
    "slideshow": {
     "slide_type": ""
    },
    "tags": [
     "answer"
    ]
   },
   "outputs": [],
   "source": [
    "# Code/plotting answer here (use more cells if desired)"
   ]
  },
  {
   "cell_type": "markdown",
   "id": "9ba6071b-8a30-459d-8180-89ffdec73ad6",
   "metadata": {
    "editable": true,
    "slideshow": {
     "slide_type": ""
    },
    "tags": [
     "answer"
    ]
   },
   "source": [
    "*Text/markdown answer here.*  (use more cells if desired)"
   ]
  },
  {
   "cell_type": "markdown",
   "id": "ae02d24e-99c1-49d6-8d20-b52fcdeeeb80",
   "metadata": {
    "editable": true,
    "slideshow": {
     "slide_type": ""
    },
    "tags": []
   },
   "source": [
    "## Q2: Compare with theory\n",
    "\n",
    "Lets consider the last good simulation step and see if our steady theory works."
   ]
  },
  {
   "cell_type": "markdown",
   "id": "8ca58134-2fdb-4473-825b-b63706a442f8",
   "metadata": {
    "editable": true,
    "slideshow": {
     "slide_type": ""
    },
    "tags": []
   },
   "source": [
    "### Q2.1 does solution conserve mass?\n",
    "\n",
    "How well does the solution conserve mass? Rember that any transport convergence must show up as vertical change in the surface height."
   ]
  },
  {
   "cell_type": "code",
   "execution_count": null,
   "id": "9edb2660-6982-41d1-8231-50836031e65e",
   "metadata": {
    "editable": true,
    "slideshow": {
     "slide_type": ""
    },
    "tags": [
     "answer"
    ]
   },
   "outputs": [],
   "source": [
    "# Code/plotting answer here (use more cells if desired)"
   ]
  },
  {
   "cell_type": "markdown",
   "id": "ea5e33b9-b01a-48bb-893d-4894a25381cd",
   "metadata": {
    "editable": true,
    "slideshow": {
     "slide_type": ""
    },
    "tags": [
     "answer"
    ]
   },
   "source": [
    "*Text/markdown answer here.*  (use more cells if desired)"
   ]
  },
  {
   "cell_type": "markdown",
   "id": "e56831a3-ab0a-4569-821f-a2418508ffcc",
   "metadata": {
    "editable": true,
    "slideshow": {
     "slide_type": ""
    },
    "tags": []
   },
   "source": [
    "### Q2.1 plot Froude number\n",
    "\n",
    "Compute the value of the Froude number as a function of x, and describe how it conforms (or not) to our expectations."
   ]
  },
  {
   "cell_type": "code",
   "execution_count": null,
   "id": "af4174f2-115b-4585-8c57-f5696f844d2b",
   "metadata": {
    "editable": true,
    "slideshow": {
     "slide_type": ""
    },
    "tags": [
     "answer"
    ]
   },
   "outputs": [],
   "source": [
    "# Code/plotting answer here (use more cells if desired)"
   ]
  },
  {
   "cell_type": "markdown",
   "id": "3c270c29-4002-4009-bd30-66e824cc5c6e",
   "metadata": {
    "editable": true,
    "slideshow": {
     "slide_type": ""
    },
    "tags": [
     "answer"
    ]
   },
   "source": [
    "*Text/markdown answer here.*  (use more cells if desired)"
   ]
  },
  {
   "cell_type": "markdown",
   "id": "d077c906-846e-4317-a626-90dfaca3c29c",
   "metadata": {
    "editable": true,
    "slideshow": {
     "slide_type": ""
    },
    "tags": []
   },
   "source": [
    "### Q2.3 Compare flow crosssection with theory\n",
    "\n",
    "Given $q=0.18\\ \\mathrm{m^2\\,s^{-1}}$ and $h(x)$ we can calculate the flow everywhere upstream of the hydraulic jump.  See how well the flow does comapred to the theoretical prediction.  Note there is a root finding exercise here, and there are multiple roots at each value of $h(x)$"
   ]
  },
  {
   "cell_type": "code",
   "execution_count": null,
   "id": "1f5fea9f-7b2e-4097-b428-fca0449d6e3e",
   "metadata": {
    "editable": true,
    "slideshow": {
     "slide_type": ""
    },
    "tags": [
     "answer"
    ]
   },
   "outputs": [],
   "source": [
    "# Code/plotting answer here (use more cells if desired)"
   ]
  },
  {
   "cell_type": "markdown",
   "id": "a25fbc44-16b8-401b-b8ae-4028ceda5fff",
   "metadata": {
    "editable": true,
    "slideshow": {
     "slide_type": ""
    },
    "tags": [
     "answer"
    ]
   },
   "source": [
    "*Text/markdown answer here.*  (use more cells if desired)"
   ]
  },
  {
   "cell_type": "markdown",
   "id": "e905dfe5-61e0-4777-aaae-5a8b96ebeb86",
   "metadata": {
    "editable": true,
    "slideshow": {
     "slide_type": ""
    },
    "tags": []
   },
   "source": [
    "### Q2.4 Check Bernoulli function is constant\n",
    "\n",
    "Show that the Bernoulli function at the surface ($z=h+d$) is approximately constant and comment on where it is not.  Also argue that the Bernoulli function has the same value at $z=h(x)$"
   ]
  },
  {
   "cell_type": "code",
   "execution_count": null,
   "id": "90669bbd-4e2f-447d-b375-118983a9f31e",
   "metadata": {
    "editable": true,
    "slideshow": {
     "slide_type": ""
    },
    "tags": [
     "answer"
    ]
   },
   "outputs": [],
   "source": [
    "# Code/plotting answer here (use more cells if desired)"
   ]
  },
  {
   "cell_type": "markdown",
   "id": "88cc0682-7640-4eeb-8a7d-f0e6b0bec161",
   "metadata": {
    "editable": true,
    "slideshow": {
     "slide_type": ""
    },
    "tags": [
     "answer"
    ]
   },
   "source": [
    "*Text/markdown answer here.*  (use more cells if desired)"
   ]
  },
  {
   "cell_type": "markdown",
   "id": "c7f15372-df9a-4a71-a80a-be40cb4e527b",
   "metadata": {
    "editable": true,
    "slideshow": {
     "slide_type": ""
    },
    "tags": []
   },
   "source": [
    "### Q2.5 Check that energy is conserved\n",
    "\n",
    "Consider the terms of the vertically integrated energy budget, and show where they balance and discuss where they do not.  Be sure to show how you derived the terms, and note the units and how they relate to Joules or Watts.  What is the rate that energy is being lost in the hydraulic jump?  How much energy is lost total in the system:"
   ]
  },
  {
   "cell_type": "markdown",
   "id": "72045c1e-cd95-467b-9998-d0aaac01136c",
   "metadata": {
    "editable": true,
    "slideshow": {
     "slide_type": ""
    },
    "tags": [
     "answer"
    ]
   },
   "source": [
    "*Text/markdown answer here.*  (use more cells if desired)"
   ]
  },
  {
   "cell_type": "code",
   "execution_count": null,
   "id": "ebb2327e-8207-4002-8829-ffd65ab630b5",
   "metadata": {
    "editable": true,
    "slideshow": {
     "slide_type": ""
    },
    "tags": [
     "answer"
    ]
   },
   "outputs": [],
   "source": [
    "# Code/plotting answer here (use more cells if desired)"
   ]
  },
  {
   "cell_type": "markdown",
   "id": "fb03ee83-6d71-40b8-8681-6b6989e36e71",
   "metadata": {
    "editable": true,
    "slideshow": {
     "slide_type": ""
    },
    "tags": []
   },
   "source": [
    "The total energy transport plus the pressure work is approximately constant until the hydraulic jump after which it drops.  We see the expected exchange between KE and PE, with KE increasing over the bump, initially at the expense of pressure work (note the PE increases over the bump until the obstacle crest), and then at the expense of the potential energy and pressure work.  \n",
    "\n",
    "The hydraulic jump loses energy in the drop from 750 W/m to 621 W/m = 129 W/m.  \n",
    "\n",
    "Total energy loss is approximately 138 W/m, though we should check for energy rate of change as well!\n"
   ]
  },
  {
   "cell_type": "markdown",
   "id": "2e87187c-8255-4041-801c-b3501ea1d28e",
   "metadata": {
    "editable": true,
    "slideshow": {
     "slide_type": ""
    },
    "tags": []
   },
   "source": [
    "### Q2.6 Figure out the jump location\n",
    "\n",
    "There is clearly a hydraulic jump on the topography.  We can figure out its location by noting that the Bernoulli function is known in the downstream reservoir, in addition to knowing it on the ridge crest.  These Bernoulli functions are constant to the left and right side of the jump, so that gives two equations in three unknowns, $d_{left}$, $d_{right}$, $h(x_j) = h_j$.   A third equation can be derived by conserving the flux of momentum across the hydraulic jump. \n",
    "\n",
    "These three equations are pretty non-linear, so I solved using `scipy.optimize.root`, with the three unknowns as the roots. \n",
    "\n",
    "Plot the upstream and downstream solutions for d on the same plot, and indicate the location of the hydraulic jump.  \n"
   ]
  },
  {
   "cell_type": "code",
   "execution_count": 333,
   "id": "c2efe290-9d86-4819-a84b-21ef4cfd4df0",
   "metadata": {
    "editable": true,
    "slideshow": {
     "slide_type": ""
    },
    "tags": []
   },
   "outputs": [
    {
     "name": "stdout",
     "output_type": "stream",
     "text": [
      " message: The solution converged.\n",
      " success: True\n",
      "  status: 1\n",
      "     fun: [-3.014e-12  1.041e-12  8.882e-16]\n",
      "       x: [ 7.594e-02  2.594e-01  6.111e-02]\n",
      "  method: hybr\n",
      "    nfev: 30\n",
      "    fjac: [[-9.286e-01  1.564e-01 -3.365e-01]\n",
      "           [ 3.491e-01  6.086e-02 -9.351e-01]\n",
      "           [ 1.257e-01  9.858e-01  1.111e-01]]\n",
      "       r: [ 1.907e+02  2.313e+01 -1.767e+00 -8.325e+00 -8.576e+00\n",
      "            1.076e+01]\n",
      "     qtf: [ 1.006e-09 -3.260e-10  2.095e-10]\n"
     ]
    },
    {
     "name": "stderr",
     "output_type": "stream",
     "text": [
      "/var/folders/kx/4c3bx_w92t31pqyvg6ws03200000gn/T/ipykernel_9739/1608275135.py:35: OptimizeWarning: Unknown solver options: maxiter\n",
      "  result = optim.root(fun, x0=np.array([dm, dp, hj]), options={'maxiter':10_000, 'xtol':1e-10})\n"
     ]
    }
   ],
   "source": [
    "import scipy.optimize as optim\n",
    "\n",
    "# Downstream Bernoulli\n",
    "A = 0.5 *Qup**2 / dd.A[-10]**2 + g * dd.A[-10]\n",
    "dc = dd.sel(x=10, method='nearest').A\n",
    "hm = np.max(dd.zb)\n",
    "\n",
    "# Upstream Bernoulli\n",
    "B = 0.5 *Qup**2 / dc**2 + g * (dc + hm)\n",
    "\n",
    "\n",
    "def fun(x, *args):\n",
    "    dm = x[0]\n",
    "    dp = x[1]\n",
    "    hj = x[2]\n",
    "    if dp < dm:\n",
    "        res = [1e6, 1e6, 1e6]\n",
    "    elif dp < 0:\n",
    "        res = [1e6, 1e6, 1e6]\n",
    "    elif dm < 0:\n",
    "        res = [1e6, 1e6, 1e6]\n",
    "    elif hj < 0:\n",
    "        res = [1e6, 1e6, 1e6]        \n",
    "    else: \n",
    "        res = [Qup**2 / dm**2 - g * dp / 2  *(1 +dp/dm),\n",
    "                (0.5*Qup**2 / dp**2 + g * (dp+hj)  - A).values ,\n",
    "                (0.5*Qup**2 / dm**2 + g * (dm+hj)  - B).values \n",
    "              ]\n",
    "    return res\n",
    "\n",
    "# initial guess\n",
    "dp = dd.A[-10] \n",
    "dm = dc / 18\n",
    "hj = 0.0\n",
    "result = optim.root(fun, x0=np.array([dm, dp, hj]), options={'maxiter':10_000, 'xtol':1e-10})\n",
    "print(result)"
   ]
  },
  {
   "cell_type": "code",
   "execution_count": null,
   "id": "4f7f69c2-d389-4fe5-bb01-23e9dcb0f9e6",
   "metadata": {
    "editable": true,
    "slideshow": {
     "slide_type": ""
    },
    "tags": [
     "answer"
    ]
   },
   "outputs": [],
   "source": [
    "# Code/plotting answer here (use more cells if desired)"
   ]
  },
  {
   "cell_type": "code",
   "execution_count": null,
   "id": "c1b40999-5bb7-4fd8-af25-3e4a46743ba2",
   "metadata": {
    "editable": true,
    "slideshow": {
     "slide_type": ""
    },
    "tags": [
     "answer"
    ]
   },
   "outputs": [],
   "source": [
    "# Code/plotting answer here (use more cells if desired)"
   ]
  },
  {
   "cell_type": "markdown",
   "id": "ec5d8db2-b310-468c-86fb-e323d8583f89",
   "metadata": {
    "editable": true,
    "slideshow": {
     "slide_type": ""
    },
    "tags": [
     "answer"
    ]
   },
   "source": [
    "*Text/markdown answer here.*  (use more cells if desired)"
   ]
  },
  {
   "cell_type": "markdown",
   "id": "a796d5b9-c4bb-4211-894d-e9fdd2ed0330",
   "metadata": {
    "editable": true,
    "slideshow": {
     "slide_type": ""
    },
    "tags": []
   },
   "source": [
    "## Q3 Run your own version\n",
    "\n",
    "Run your own version of the simulation, and discuss the results.  There is no need to do all the analyses above, but you might discuss how it gets to the steady state, comment if the flow is sub/super critical and where. "
   ]
  },
  {
   "cell_type": "code",
   "execution_count": null,
   "id": "0bd6e410-5d3f-48ae-bcbf-bf66ca1691db",
   "metadata": {
    "editable": true,
    "slideshow": {
     "slide_type": ""
    },
    "tags": [
     "answer"
    ]
   },
   "outputs": [],
   "source": [
    "# Code/plotting answer here (use more cells if desired)"
   ]
  },
  {
   "cell_type": "markdown",
   "id": "0ec6a13c-b81d-403b-a02e-1814c5944bb3",
   "metadata": {
    "editable": true,
    "slideshow": {
     "slide_type": ""
    },
    "tags": [
     "answer"
    ]
   },
   "source": [
    "*Text/markdown answer here.*  (use more cells if desired)"
   ]
  },
  {
   "cell_type": "markdown",
   "id": "d90449af-f8ac-4f86-9c12-bb97af38a361",
   "metadata": {
    "editable": true,
    "slideshow": {
     "slide_type": ""
    },
    "tags": []
   },
   "source": [
    "## Q4 Dam break problem and characteristics\n",
    "\n",
    "Run the following code, and plot a Hovmoller diagram.  \n",
    "\n",
    "Compare the results to the results using the method of characteristics.  "
   ]
  },
  {
   "cell_type": "code",
   "execution_count": 338,
   "id": "d15d3afd-c579-45a5-a1b3-79e9891b2af8",
   "metadata": {
    "editable": true,
    "slideshow": {
     "slide_type": ""
    },
    "tags": []
   },
   "outputs": [
    {
     "name": "stdout",
     "output_type": "stream",
     "text": [
      "0.0\n"
     ]
    },
    {
     "name": "stderr",
     "output_type": "stream",
     "text": [
      "Running model:  35%|███▍      | 1039/3000 [00:00<00:00, 5209.10it/s]"
     ]
    },
    {
     "name": "stdout",
     "output_type": "stream",
     "text": [
      "upstream subcritical\n",
      "upstream subcritical\n"
     ]
    },
    {
     "name": "stderr",
     "output_type": "stream",
     "text": [
      "Running model: 100%|██████████| 3000/3000 [00:00<00:00, 5423.75it/s]\n"
     ]
    },
    {
     "data": {
      "text/html": [
       "<div><svg style=\"position: absolute; width: 0; height: 0; overflow: hidden\">\n",
       "<defs>\n",
       "<symbol id=\"icon-database\" viewBox=\"0 0 32 32\">\n",
       "<path d=\"M16 0c-8.837 0-16 2.239-16 5v4c0 2.761 7.163 5 16 5s16-2.239 16-5v-4c0-2.761-7.163-5-16-5z\"></path>\n",
       "<path d=\"M16 17c-8.837 0-16-2.239-16-5v6c0 2.761 7.163 5 16 5s16-2.239 16-5v-6c0 2.761-7.163 5-16 5z\"></path>\n",
       "<path d=\"M16 26c-8.837 0-16-2.239-16-5v6c0 2.761 7.163 5 16 5s16-2.239 16-5v-6c0 2.761-7.163 5-16 5z\"></path>\n",
       "</symbol>\n",
       "<symbol id=\"icon-file-text2\" viewBox=\"0 0 32 32\">\n",
       "<path d=\"M28.681 7.159c-0.694-0.947-1.662-2.053-2.724-3.116s-2.169-2.030-3.116-2.724c-1.612-1.182-2.393-1.319-2.841-1.319h-15.5c-1.378 0-2.5 1.121-2.5 2.5v27c0 1.378 1.122 2.5 2.5 2.5h23c1.378 0 2.5-1.122 2.5-2.5v-19.5c0-0.448-0.137-1.23-1.319-2.841zM24.543 5.457c0.959 0.959 1.712 1.825 2.268 2.543h-4.811v-4.811c0.718 0.556 1.584 1.309 2.543 2.268zM28 29.5c0 0.271-0.229 0.5-0.5 0.5h-23c-0.271 0-0.5-0.229-0.5-0.5v-27c0-0.271 0.229-0.5 0.5-0.5 0 0 15.499-0 15.5 0v7c0 0.552 0.448 1 1 1h7v19.5z\"></path>\n",
       "<path d=\"M23 26h-14c-0.552 0-1-0.448-1-1s0.448-1 1-1h14c0.552 0 1 0.448 1 1s-0.448 1-1 1z\"></path>\n",
       "<path d=\"M23 22h-14c-0.552 0-1-0.448-1-1s0.448-1 1-1h14c0.552 0 1 0.448 1 1s-0.448 1-1 1z\"></path>\n",
       "<path d=\"M23 18h-14c-0.552 0-1-0.448-1-1s0.448-1 1-1h14c0.552 0 1 0.448 1 1s-0.448 1-1 1z\"></path>\n",
       "</symbol>\n",
       "</defs>\n",
       "</svg>\n",
       "<style>/* CSS stylesheet for displaying xarray objects in jupyterlab.\n",
       " *\n",
       " */\n",
       "\n",
       ":root {\n",
       "  --xr-font-color0: var(--jp-content-font-color0, rgba(0, 0, 0, 1));\n",
       "  --xr-font-color2: var(--jp-content-font-color2, rgba(0, 0, 0, 0.54));\n",
       "  --xr-font-color3: var(--jp-content-font-color3, rgba(0, 0, 0, 0.38));\n",
       "  --xr-border-color: var(--jp-border-color2, #e0e0e0);\n",
       "  --xr-disabled-color: var(--jp-layout-color3, #bdbdbd);\n",
       "  --xr-background-color: var(--jp-layout-color0, white);\n",
       "  --xr-background-color-row-even: var(--jp-layout-color1, white);\n",
       "  --xr-background-color-row-odd: var(--jp-layout-color2, #eeeeee);\n",
       "}\n",
       "\n",
       "html[theme=\"dark\"],\n",
       "html[data-theme=\"dark\"],\n",
       "body[data-theme=\"dark\"],\n",
       "body.vscode-dark {\n",
       "  --xr-font-color0: rgba(255, 255, 255, 1);\n",
       "  --xr-font-color2: rgba(255, 255, 255, 0.54);\n",
       "  --xr-font-color3: rgba(255, 255, 255, 0.38);\n",
       "  --xr-border-color: #1f1f1f;\n",
       "  --xr-disabled-color: #515151;\n",
       "  --xr-background-color: #111111;\n",
       "  --xr-background-color-row-even: #111111;\n",
       "  --xr-background-color-row-odd: #313131;\n",
       "}\n",
       "\n",
       ".xr-wrap {\n",
       "  display: block !important;\n",
       "  min-width: 300px;\n",
       "  max-width: 700px;\n",
       "}\n",
       "\n",
       ".xr-text-repr-fallback {\n",
       "  /* fallback to plain text repr when CSS is not injected (untrusted notebook) */\n",
       "  display: none;\n",
       "}\n",
       "\n",
       ".xr-header {\n",
       "  padding-top: 6px;\n",
       "  padding-bottom: 6px;\n",
       "  margin-bottom: 4px;\n",
       "  border-bottom: solid 1px var(--xr-border-color);\n",
       "}\n",
       "\n",
       ".xr-header > div,\n",
       ".xr-header > ul {\n",
       "  display: inline;\n",
       "  margin-top: 0;\n",
       "  margin-bottom: 0;\n",
       "}\n",
       "\n",
       ".xr-obj-type,\n",
       ".xr-array-name {\n",
       "  margin-left: 2px;\n",
       "  margin-right: 10px;\n",
       "}\n",
       "\n",
       ".xr-obj-type {\n",
       "  color: var(--xr-font-color2);\n",
       "}\n",
       "\n",
       ".xr-sections {\n",
       "  padding-left: 0 !important;\n",
       "  display: grid;\n",
       "  grid-template-columns: 150px auto auto 1fr 0 20px 0 20px;\n",
       "}\n",
       "\n",
       ".xr-section-item {\n",
       "  display: contents;\n",
       "}\n",
       "\n",
       ".xr-section-item input {\n",
       "  display: inline-block;\n",
       "  opacity: 0;\n",
       "  height: 0;\n",
       "}\n",
       "\n",
       ".xr-section-item input + label {\n",
       "  color: var(--xr-disabled-color);\n",
       "}\n",
       "\n",
       ".xr-section-item input:enabled + label {\n",
       "  cursor: pointer;\n",
       "  color: var(--xr-font-color2);\n",
       "}\n",
       "\n",
       ".xr-section-item input:focus + label {\n",
       "  border: 2px solid var(--xr-font-color0);\n",
       "}\n",
       "\n",
       ".xr-section-item input:enabled + label:hover {\n",
       "  color: var(--xr-font-color0);\n",
       "}\n",
       "\n",
       ".xr-section-summary {\n",
       "  grid-column: 1;\n",
       "  color: var(--xr-font-color2);\n",
       "  font-weight: 500;\n",
       "}\n",
       "\n",
       ".xr-section-summary > span {\n",
       "  display: inline-block;\n",
       "  padding-left: 0.5em;\n",
       "}\n",
       "\n",
       ".xr-section-summary-in:disabled + label {\n",
       "  color: var(--xr-font-color2);\n",
       "}\n",
       "\n",
       ".xr-section-summary-in + label:before {\n",
       "  display: inline-block;\n",
       "  content: \"►\";\n",
       "  font-size: 11px;\n",
       "  width: 15px;\n",
       "  text-align: center;\n",
       "}\n",
       "\n",
       ".xr-section-summary-in:disabled + label:before {\n",
       "  color: var(--xr-disabled-color);\n",
       "}\n",
       "\n",
       ".xr-section-summary-in:checked + label:before {\n",
       "  content: \"▼\";\n",
       "}\n",
       "\n",
       ".xr-section-summary-in:checked + label > span {\n",
       "  display: none;\n",
       "}\n",
       "\n",
       ".xr-section-summary,\n",
       ".xr-section-inline-details {\n",
       "  padding-top: 4px;\n",
       "  padding-bottom: 4px;\n",
       "}\n",
       "\n",
       ".xr-section-inline-details {\n",
       "  grid-column: 2 / -1;\n",
       "}\n",
       "\n",
       ".xr-section-details {\n",
       "  display: none;\n",
       "  grid-column: 1 / -1;\n",
       "  margin-bottom: 5px;\n",
       "}\n",
       "\n",
       ".xr-section-summary-in:checked ~ .xr-section-details {\n",
       "  display: contents;\n",
       "}\n",
       "\n",
       ".xr-array-wrap {\n",
       "  grid-column: 1 / -1;\n",
       "  display: grid;\n",
       "  grid-template-columns: 20px auto;\n",
       "}\n",
       "\n",
       ".xr-array-wrap > label {\n",
       "  grid-column: 1;\n",
       "  vertical-align: top;\n",
       "}\n",
       "\n",
       ".xr-preview {\n",
       "  color: var(--xr-font-color3);\n",
       "}\n",
       "\n",
       ".xr-array-preview,\n",
       ".xr-array-data {\n",
       "  padding: 0 5px !important;\n",
       "  grid-column: 2;\n",
       "}\n",
       "\n",
       ".xr-array-data,\n",
       ".xr-array-in:checked ~ .xr-array-preview {\n",
       "  display: none;\n",
       "}\n",
       "\n",
       ".xr-array-in:checked ~ .xr-array-data,\n",
       ".xr-array-preview {\n",
       "  display: inline-block;\n",
       "}\n",
       "\n",
       ".xr-dim-list {\n",
       "  display: inline-block !important;\n",
       "  list-style: none;\n",
       "  padding: 0 !important;\n",
       "  margin: 0;\n",
       "}\n",
       "\n",
       ".xr-dim-list li {\n",
       "  display: inline-block;\n",
       "  padding: 0;\n",
       "  margin: 0;\n",
       "}\n",
       "\n",
       ".xr-dim-list:before {\n",
       "  content: \"(\";\n",
       "}\n",
       "\n",
       ".xr-dim-list:after {\n",
       "  content: \")\";\n",
       "}\n",
       "\n",
       ".xr-dim-list li:not(:last-child):after {\n",
       "  content: \",\";\n",
       "  padding-right: 5px;\n",
       "}\n",
       "\n",
       ".xr-has-index {\n",
       "  font-weight: bold;\n",
       "}\n",
       "\n",
       ".xr-var-list,\n",
       ".xr-var-item {\n",
       "  display: contents;\n",
       "}\n",
       "\n",
       ".xr-var-item > div,\n",
       ".xr-var-item label,\n",
       ".xr-var-item > .xr-var-name span {\n",
       "  background-color: var(--xr-background-color-row-even);\n",
       "  margin-bottom: 0;\n",
       "}\n",
       "\n",
       ".xr-var-item > .xr-var-name:hover span {\n",
       "  padding-right: 5px;\n",
       "}\n",
       "\n",
       ".xr-var-list > li:nth-child(odd) > div,\n",
       ".xr-var-list > li:nth-child(odd) > label,\n",
       ".xr-var-list > li:nth-child(odd) > .xr-var-name span {\n",
       "  background-color: var(--xr-background-color-row-odd);\n",
       "}\n",
       "\n",
       ".xr-var-name {\n",
       "  grid-column: 1;\n",
       "}\n",
       "\n",
       ".xr-var-dims {\n",
       "  grid-column: 2;\n",
       "}\n",
       "\n",
       ".xr-var-dtype {\n",
       "  grid-column: 3;\n",
       "  text-align: right;\n",
       "  color: var(--xr-font-color2);\n",
       "}\n",
       "\n",
       ".xr-var-preview {\n",
       "  grid-column: 4;\n",
       "}\n",
       "\n",
       ".xr-index-preview {\n",
       "  grid-column: 2 / 5;\n",
       "  color: var(--xr-font-color2);\n",
       "}\n",
       "\n",
       ".xr-var-name,\n",
       ".xr-var-dims,\n",
       ".xr-var-dtype,\n",
       ".xr-preview,\n",
       ".xr-attrs dt {\n",
       "  white-space: nowrap;\n",
       "  overflow: hidden;\n",
       "  text-overflow: ellipsis;\n",
       "  padding-right: 10px;\n",
       "}\n",
       "\n",
       ".xr-var-name:hover,\n",
       ".xr-var-dims:hover,\n",
       ".xr-var-dtype:hover,\n",
       ".xr-attrs dt:hover {\n",
       "  overflow: visible;\n",
       "  width: auto;\n",
       "  z-index: 1;\n",
       "}\n",
       "\n",
       ".xr-var-attrs,\n",
       ".xr-var-data,\n",
       ".xr-index-data {\n",
       "  display: none;\n",
       "  background-color: var(--xr-background-color) !important;\n",
       "  padding-bottom: 5px !important;\n",
       "}\n",
       "\n",
       ".xr-var-attrs-in:checked ~ .xr-var-attrs,\n",
       ".xr-var-data-in:checked ~ .xr-var-data,\n",
       ".xr-index-data-in:checked ~ .xr-index-data {\n",
       "  display: block;\n",
       "}\n",
       "\n",
       ".xr-var-data > table {\n",
       "  float: right;\n",
       "}\n",
       "\n",
       ".xr-var-name span,\n",
       ".xr-var-data,\n",
       ".xr-index-name div,\n",
       ".xr-index-data,\n",
       ".xr-attrs {\n",
       "  padding-left: 25px !important;\n",
       "}\n",
       "\n",
       ".xr-attrs,\n",
       ".xr-var-attrs,\n",
       ".xr-var-data,\n",
       ".xr-index-data {\n",
       "  grid-column: 1 / -1;\n",
       "}\n",
       "\n",
       "dl.xr-attrs {\n",
       "  padding: 0;\n",
       "  margin: 0;\n",
       "  display: grid;\n",
       "  grid-template-columns: 125px auto;\n",
       "}\n",
       "\n",
       ".xr-attrs dt,\n",
       ".xr-attrs dd {\n",
       "  padding: 0;\n",
       "  margin: 0;\n",
       "  float: left;\n",
       "  padding-right: 10px;\n",
       "  width: auto;\n",
       "}\n",
       "\n",
       ".xr-attrs dt {\n",
       "  font-weight: normal;\n",
       "  grid-column: 1;\n",
       "}\n",
       "\n",
       ".xr-attrs dt:hover span {\n",
       "  display: inline-block;\n",
       "  background: var(--xr-background-color);\n",
       "  padding-right: 10px;\n",
       "}\n",
       "\n",
       ".xr-attrs dd {\n",
       "  grid-column: 2;\n",
       "  white-space: pre-wrap;\n",
       "  word-break: break-all;\n",
       "}\n",
       "\n",
       ".xr-icon-database,\n",
       ".xr-icon-file-text2,\n",
       ".xr-no-icon {\n",
       "  display: inline-block;\n",
       "  vertical-align: middle;\n",
       "  width: 1em;\n",
       "  height: 1.5em !important;\n",
       "  stroke-width: 0;\n",
       "  stroke: currentColor;\n",
       "  fill: currentColor;\n",
       "}\n",
       "</style><pre class='xr-text-repr-fallback'>&lt;xarray.Dataset&gt; Size: 520kB\n",
       "Dimensions:  (x: 1000, time: 31)\n",
       "Coordinates:\n",
       "  * x        (x) float64 8kB 0.0 0.025 0.05 0.075 0.1 ... 24.9 24.93 24.95 24.98\n",
       "  * time     (time) float64 248B 0.0 0.25 0.5 0.75 1.0 ... 6.5 6.75 7.0 7.25 7.5\n",
       "Data variables:\n",
       "    A        (time, x) float64 248kB 0.33 0.33 0.33 0.33 ... 0.0 0.0 0.0 0.0\n",
       "    Q        (time, x) float64 248kB 0.0 0.0 0.0 0.0 0.0 ... 0.0 0.0 0.0 0.0 0.0\n",
       "    zb       (x) float64 8kB 0.0 0.0 0.0 0.0 0.0 0.0 ... 0.0 0.0 0.0 0.0 0.0 0.0\n",
       "    b        (x) float64 8kB 1.0 1.0 1.0 1.0 1.0 1.0 ... 1.0 1.0 1.0 1.0 1.0 1.0\n",
       "    Qup      float64 8B 0.0\n",
       "    Adown    float64 8B 0.23\n",
       "Attributes:\n",
       "    description:  Made with run_modelFVM(nTimes, saveT, dt, dx, zb, b, A, Q, ...</pre><div class='xr-wrap' style='display:none'><div class='xr-header'><div class='xr-obj-type'>xarray.Dataset</div></div><ul class='xr-sections'><li class='xr-section-item'><input id='section-d3d1d039-cb2d-4d78-b836-fa0de7244717' class='xr-section-summary-in' type='checkbox' disabled ><label for='section-d3d1d039-cb2d-4d78-b836-fa0de7244717' class='xr-section-summary'  title='Expand/collapse section'>Dimensions:</label><div class='xr-section-inline-details'><ul class='xr-dim-list'><li><span class='xr-has-index'>x</span>: 1000</li><li><span class='xr-has-index'>time</span>: 31</li></ul></div><div class='xr-section-details'></div></li><li class='xr-section-item'><input id='section-13447d47-fe00-4bf7-9ad9-4042f87c80d0' class='xr-section-summary-in' type='checkbox'  checked><label for='section-13447d47-fe00-4bf7-9ad9-4042f87c80d0' class='xr-section-summary' >Coordinates: <span>(2)</span></label><div class='xr-section-inline-details'></div><div class='xr-section-details'><ul class='xr-var-list'><li class='xr-var-item'><div class='xr-var-name'><span class='xr-has-index'>x</span></div><div class='xr-var-dims'>(x)</div><div class='xr-var-dtype'>float64</div><div class='xr-var-preview xr-preview'>0.0 0.025 0.05 ... 24.95 24.98</div><input id='attrs-2547a318-6768-4915-8dca-ba4cbae222ac' class='xr-var-attrs-in' type='checkbox' ><label for='attrs-2547a318-6768-4915-8dca-ba4cbae222ac' title='Show/Hide attributes'><svg class='icon xr-icon-file-text2'><use xlink:href='#icon-file-text2'></use></svg></label><input id='data-2899c839-a60d-44a6-beac-2f660178d7a6' class='xr-var-data-in' type='checkbox'><label for='data-2899c839-a60d-44a6-beac-2f660178d7a6' title='Show/Hide data repr'><svg class='icon xr-icon-database'><use xlink:href='#icon-database'></use></svg></label><div class='xr-var-attrs'><dl class='xr-attrs'><dt><span>description :</span></dt><dd>x [m]</dd></dl></div><div class='xr-var-data'><pre>array([ 0.   ,  0.025,  0.05 , ..., 24.925, 24.95 , 24.975])</pre></div></li><li class='xr-var-item'><div class='xr-var-name'><span class='xr-has-index'>time</span></div><div class='xr-var-dims'>(time)</div><div class='xr-var-dtype'>float64</div><div class='xr-var-preview xr-preview'>0.0 0.25 0.5 0.75 ... 7.0 7.25 7.5</div><input id='attrs-99aa05b8-599f-4fa7-a9f0-43b3457d3135' class='xr-var-attrs-in' type='checkbox' ><label for='attrs-99aa05b8-599f-4fa7-a9f0-43b3457d3135' title='Show/Hide attributes'><svg class='icon xr-icon-file-text2'><use xlink:href='#icon-file-text2'></use></svg></label><input id='data-472fcb20-6de2-4ad4-93a3-5983c5f1544a' class='xr-var-data-in' type='checkbox'><label for='data-472fcb20-6de2-4ad4-93a3-5983c5f1544a' title='Show/Hide data repr'><svg class='icon xr-icon-database'><use xlink:href='#icon-database'></use></svg></label><div class='xr-var-attrs'><dl class='xr-attrs'><dt><span>description :</span></dt><dd>time [s]</dd></dl></div><div class='xr-var-data'><pre>array([0.  , 0.25, 0.5 , 0.75, 1.  , 1.25, 1.5 , 1.75, 2.  , 2.25, 2.5 , 2.75,\n",
       "       3.  , 3.25, 3.5 , 3.75, 4.  , 4.25, 4.5 , 4.75, 5.  , 5.25, 5.5 , 5.75,\n",
       "       6.  , 6.25, 6.5 , 6.75, 7.  , 7.25, 7.5 ])</pre></div></li></ul></div></li><li class='xr-section-item'><input id='section-09af6223-5160-45d2-8c33-8271b5ebe9c6' class='xr-section-summary-in' type='checkbox'  checked><label for='section-09af6223-5160-45d2-8c33-8271b5ebe9c6' class='xr-section-summary' >Data variables: <span>(6)</span></label><div class='xr-section-inline-details'></div><div class='xr-section-details'><ul class='xr-var-list'><li class='xr-var-item'><div class='xr-var-name'><span>A</span></div><div class='xr-var-dims'>(time, x)</div><div class='xr-var-dtype'>float64</div><div class='xr-var-preview xr-preview'>0.33 0.33 0.33 0.33 ... 0.0 0.0 0.0</div><input id='attrs-c2ed714d-dc0c-4ae3-8768-28d63db65ff1' class='xr-var-attrs-in' type='checkbox' ><label for='attrs-c2ed714d-dc0c-4ae3-8768-28d63db65ff1' title='Show/Hide attributes'><svg class='icon xr-icon-file-text2'><use xlink:href='#icon-file-text2'></use></svg></label><input id='data-4e7b3f85-db93-4755-ae98-9280456e4c6b' class='xr-var-data-in' type='checkbox'><label for='data-4e7b3f85-db93-4755-ae98-9280456e4c6b' title='Show/Hide data repr'><svg class='icon xr-icon-database'><use xlink:href='#icon-database'></use></svg></label><div class='xr-var-attrs'><dl class='xr-attrs'><dt><span>description :</span></dt><dd>Cross-sectional area [m^2]</dd></dl></div><div class='xr-var-data'><pre>array([[0.33      , 0.33      , 0.33      , ..., 0.23      , 0.23      ,\n",
       "        0.23      ],\n",
       "       [0.33      , 0.33      , 0.33      , ..., 0.23      , 0.23      ,\n",
       "        0.23      ],\n",
       "       [0.33      , 0.33      , 0.33      , ..., 0.23      , 0.23      ,\n",
       "        0.23      ],\n",
       "       ...,\n",
       "       [0.32397404, 0.32397404, 0.32401688, ..., 0.23011765, 0.23004464,\n",
       "        0.23      ],\n",
       "       [0.31086072, 0.31086072, 0.31092696, ..., 0.2573277 , 0.25017666,\n",
       "        0.23      ],\n",
       "       [0.        , 0.        , 0.        , ..., 0.        , 0.        ,\n",
       "        0.        ]])</pre></div></li><li class='xr-var-item'><div class='xr-var-name'><span>Q</span></div><div class='xr-var-dims'>(time, x)</div><div class='xr-var-dtype'>float64</div><div class='xr-var-preview xr-preview'>0.0 0.0 0.0 0.0 ... 0.0 0.0 0.0 0.0</div><input id='attrs-a5121b2a-1ae3-4eed-9833-40be30fabd21' class='xr-var-attrs-in' type='checkbox' ><label for='attrs-a5121b2a-1ae3-4eed-9833-40be30fabd21' title='Show/Hide attributes'><svg class='icon xr-icon-file-text2'><use xlink:href='#icon-file-text2'></use></svg></label><input id='data-709e9fb7-d241-4c72-be32-a6c77e906232' class='xr-var-data-in' type='checkbox'><label for='data-709e9fb7-d241-4c72-be32-a6c77e906232' title='Show/Hide data repr'><svg class='icon xr-icon-database'><use xlink:href='#icon-database'></use></svg></label><div class='xr-var-attrs'><dl class='xr-attrs'><dt><span>description :</span></dt><dd>Flow rate [m^3/s]</dd></dl></div><div class='xr-var-data'><pre>array([[0.00000000e+00, 0.00000000e+00, 0.00000000e+00, ...,\n",
       "        0.00000000e+00, 0.00000000e+00, 0.00000000e+00],\n",
       "       [0.00000000e+00, 0.00000000e+00, 0.00000000e+00, ...,\n",
       "        0.00000000e+00, 0.00000000e+00, 0.00000000e+00],\n",
       "       [0.00000000e+00, 0.00000000e+00, 0.00000000e+00, ...,\n",
       "        0.00000000e+00, 0.00000000e+00, 0.00000000e+00],\n",
       "       ...,\n",
       "       [0.00000000e+00, 7.36355907e-04, 1.58337003e-03, ...,\n",
       "        1.70070288e-04, 8.21740610e-05, 6.88945196e-05],\n",
       "       [0.00000000e+00, 8.44742370e-04, 1.84489916e-03, ...,\n",
       "        1.37352529e-01, 1.66370098e-01, 1.65229396e-01],\n",
       "       [0.00000000e+00, 0.00000000e+00, 0.00000000e+00, ...,\n",
       "        0.00000000e+00, 0.00000000e+00, 0.00000000e+00]])</pre></div></li><li class='xr-var-item'><div class='xr-var-name'><span>zb</span></div><div class='xr-var-dims'>(x)</div><div class='xr-var-dtype'>float64</div><div class='xr-var-preview xr-preview'>0.0 0.0 0.0 0.0 ... 0.0 0.0 0.0 0.0</div><input id='attrs-b9f5c47e-80b5-46ee-af83-65a53bffa2e6' class='xr-var-attrs-in' type='checkbox' ><label for='attrs-b9f5c47e-80b5-46ee-af83-65a53bffa2e6' title='Show/Hide attributes'><svg class='icon xr-icon-file-text2'><use xlink:href='#icon-file-text2'></use></svg></label><input id='data-c7a6227a-3d1b-4b13-a0c7-76a6c1b7faa1' class='xr-var-data-in' type='checkbox'><label for='data-c7a6227a-3d1b-4b13-a0c7-76a6c1b7faa1' title='Show/Hide data repr'><svg class='icon xr-icon-database'><use xlink:href='#icon-database'></use></svg></label><div class='xr-var-attrs'><dl class='xr-attrs'><dt><span>description :</span></dt><dd>topography [m]</dd></dl></div><div class='xr-var-data'><pre>array([0., 0., 0., 0., 0., 0., 0., 0., 0., 0., 0., 0., 0., 0., 0., 0., 0.,\n",
       "       0., 0., 0., 0., 0., 0., 0., 0., 0., 0., 0., 0., 0., 0., 0., 0., 0.,\n",
       "       0., 0., 0., 0., 0., 0., 0., 0., 0., 0., 0., 0., 0., 0., 0., 0., 0.,\n",
       "       0., 0., 0., 0., 0., 0., 0., 0., 0., 0., 0., 0., 0., 0., 0., 0., 0.,\n",
       "       0., 0., 0., 0., 0., 0., 0., 0., 0., 0., 0., 0., 0., 0., 0., 0., 0.,\n",
       "       0., 0., 0., 0., 0., 0., 0., 0., 0., 0., 0., 0., 0., 0., 0., 0., 0.,\n",
       "       0., 0., 0., 0., 0., 0., 0., 0., 0., 0., 0., 0., 0., 0., 0., 0., 0.,\n",
       "       0., 0., 0., 0., 0., 0., 0., 0., 0., 0., 0., 0., 0., 0., 0., 0., 0.,\n",
       "       0., 0., 0., 0., 0., 0., 0., 0., 0., 0., 0., 0., 0., 0., 0., 0., 0.,\n",
       "       0., 0., 0., 0., 0., 0., 0., 0., 0., 0., 0., 0., 0., 0., 0., 0., 0.,\n",
       "       0., 0., 0., 0., 0., 0., 0., 0., 0., 0., 0., 0., 0., 0., 0., 0., 0.,\n",
       "       0., 0., 0., 0., 0., 0., 0., 0., 0., 0., 0., 0., 0., 0., 0., 0., 0.,\n",
       "       0., 0., 0., 0., 0., 0., 0., 0., 0., 0., 0., 0., 0., 0., 0., 0., 0.,\n",
       "       0., 0., 0., 0., 0., 0., 0., 0., 0., 0., 0., 0., 0., 0., 0., 0., 0.,\n",
       "       0., 0., 0., 0., 0., 0., 0., 0., 0., 0., 0., 0., 0., 0., 0., 0., 0.,\n",
       "       0., 0., 0., 0., 0., 0., 0., 0., 0., 0., 0., 0., 0., 0., 0., 0., 0.,\n",
       "       0., 0., 0., 0., 0., 0., 0., 0., 0., 0., 0., 0., 0., 0., 0., 0., 0.,\n",
       "       0., 0., 0., 0., 0., 0., 0., 0., 0., 0., 0., 0., 0., 0., 0., 0., 0.,\n",
       "       0., 0., 0., 0., 0., 0., 0., 0., 0., 0., 0., 0., 0., 0., 0., 0., 0.,\n",
       "       0., 0., 0., 0., 0., 0., 0., 0., 0., 0., 0., 0., 0., 0., 0., 0., 0.,\n",
       "...\n",
       "       0., 0., 0., 0., 0., 0., 0., 0., 0., 0., 0., 0., 0., 0., 0., 0., 0.,\n",
       "       0., 0., 0., 0., 0., 0., 0., 0., 0., 0., 0., 0., 0., 0., 0., 0., 0.,\n",
       "       0., 0., 0., 0., 0., 0., 0., 0., 0., 0., 0., 0., 0., 0., 0., 0., 0.,\n",
       "       0., 0., 0., 0., 0., 0., 0., 0., 0., 0., 0., 0., 0., 0., 0., 0., 0.,\n",
       "       0., 0., 0., 0., 0., 0., 0., 0., 0., 0., 0., 0., 0., 0., 0., 0., 0.,\n",
       "       0., 0., 0., 0., 0., 0., 0., 0., 0., 0., 0., 0., 0., 0., 0., 0., 0.,\n",
       "       0., 0., 0., 0., 0., 0., 0., 0., 0., 0., 0., 0., 0., 0., 0., 0., 0.,\n",
       "       0., 0., 0., 0., 0., 0., 0., 0., 0., 0., 0., 0., 0., 0., 0., 0., 0.,\n",
       "       0., 0., 0., 0., 0., 0., 0., 0., 0., 0., 0., 0., 0., 0., 0., 0., 0.,\n",
       "       0., 0., 0., 0., 0., 0., 0., 0., 0., 0., 0., 0., 0., 0., 0., 0., 0.,\n",
       "       0., 0., 0., 0., 0., 0., 0., 0., 0., 0., 0., 0., 0., 0., 0., 0., 0.,\n",
       "       0., 0., 0., 0., 0., 0., 0., 0., 0., 0., 0., 0., 0., 0., 0., 0., 0.,\n",
       "       0., 0., 0., 0., 0., 0., 0., 0., 0., 0., 0., 0., 0., 0., 0., 0., 0.,\n",
       "       0., 0., 0., 0., 0., 0., 0., 0., 0., 0., 0., 0., 0., 0., 0., 0., 0.,\n",
       "       0., 0., 0., 0., 0., 0., 0., 0., 0., 0., 0., 0., 0., 0., 0., 0., 0.,\n",
       "       0., 0., 0., 0., 0., 0., 0., 0., 0., 0., 0., 0., 0., 0., 0., 0., 0.,\n",
       "       0., 0., 0., 0., 0., 0., 0., 0., 0., 0., 0., 0., 0., 0., 0., 0., 0.,\n",
       "       0., 0., 0., 0., 0., 0., 0., 0., 0., 0., 0., 0., 0., 0., 0., 0., 0.,\n",
       "       0., 0., 0., 0., 0., 0., 0., 0., 0., 0., 0., 0., 0., 0., 0., 0., 0.,\n",
       "       0., 0., 0., 0., 0., 0., 0., 0., 0., 0., 0., 0., 0., 0.])</pre></div></li><li class='xr-var-item'><div class='xr-var-name'><span>b</span></div><div class='xr-var-dims'>(x)</div><div class='xr-var-dtype'>float64</div><div class='xr-var-preview xr-preview'>1.0 1.0 1.0 1.0 ... 1.0 1.0 1.0 1.0</div><input id='attrs-16182ffa-20dc-4ab4-8482-cce188042aa9' class='xr-var-attrs-in' type='checkbox' ><label for='attrs-16182ffa-20dc-4ab4-8482-cce188042aa9' title='Show/Hide attributes'><svg class='icon xr-icon-file-text2'><use xlink:href='#icon-file-text2'></use></svg></label><input id='data-5c624134-9e03-4e6f-b209-1e3b44778e4e' class='xr-var-data-in' type='checkbox'><label for='data-5c624134-9e03-4e6f-b209-1e3b44778e4e' title='Show/Hide data repr'><svg class='icon xr-icon-database'><use xlink:href='#icon-database'></use></svg></label><div class='xr-var-attrs'><dl class='xr-attrs'><dt><span>description :</span></dt><dd>channel width [m]</dd></dl></div><div class='xr-var-data'><pre>array([1., 1., 1., 1., 1., 1., 1., 1., 1., 1., 1., 1., 1., 1., 1., 1., 1.,\n",
       "       1., 1., 1., 1., 1., 1., 1., 1., 1., 1., 1., 1., 1., 1., 1., 1., 1.,\n",
       "       1., 1., 1., 1., 1., 1., 1., 1., 1., 1., 1., 1., 1., 1., 1., 1., 1.,\n",
       "       1., 1., 1., 1., 1., 1., 1., 1., 1., 1., 1., 1., 1., 1., 1., 1., 1.,\n",
       "       1., 1., 1., 1., 1., 1., 1., 1., 1., 1., 1., 1., 1., 1., 1., 1., 1.,\n",
       "       1., 1., 1., 1., 1., 1., 1., 1., 1., 1., 1., 1., 1., 1., 1., 1., 1.,\n",
       "       1., 1., 1., 1., 1., 1., 1., 1., 1., 1., 1., 1., 1., 1., 1., 1., 1.,\n",
       "       1., 1., 1., 1., 1., 1., 1., 1., 1., 1., 1., 1., 1., 1., 1., 1., 1.,\n",
       "       1., 1., 1., 1., 1., 1., 1., 1., 1., 1., 1., 1., 1., 1., 1., 1., 1.,\n",
       "       1., 1., 1., 1., 1., 1., 1., 1., 1., 1., 1., 1., 1., 1., 1., 1., 1.,\n",
       "       1., 1., 1., 1., 1., 1., 1., 1., 1., 1., 1., 1., 1., 1., 1., 1., 1.,\n",
       "       1., 1., 1., 1., 1., 1., 1., 1., 1., 1., 1., 1., 1., 1., 1., 1., 1.,\n",
       "       1., 1., 1., 1., 1., 1., 1., 1., 1., 1., 1., 1., 1., 1., 1., 1., 1.,\n",
       "       1., 1., 1., 1., 1., 1., 1., 1., 1., 1., 1., 1., 1., 1., 1., 1., 1.,\n",
       "       1., 1., 1., 1., 1., 1., 1., 1., 1., 1., 1., 1., 1., 1., 1., 1., 1.,\n",
       "       1., 1., 1., 1., 1., 1., 1., 1., 1., 1., 1., 1., 1., 1., 1., 1., 1.,\n",
       "       1., 1., 1., 1., 1., 1., 1., 1., 1., 1., 1., 1., 1., 1., 1., 1., 1.,\n",
       "       1., 1., 1., 1., 1., 1., 1., 1., 1., 1., 1., 1., 1., 1., 1., 1., 1.,\n",
       "       1., 1., 1., 1., 1., 1., 1., 1., 1., 1., 1., 1., 1., 1., 1., 1., 1.,\n",
       "       1., 1., 1., 1., 1., 1., 1., 1., 1., 1., 1., 1., 1., 1., 1., 1., 1.,\n",
       "...\n",
       "       1., 1., 1., 1., 1., 1., 1., 1., 1., 1., 1., 1., 1., 1., 1., 1., 1.,\n",
       "       1., 1., 1., 1., 1., 1., 1., 1., 1., 1., 1., 1., 1., 1., 1., 1., 1.,\n",
       "       1., 1., 1., 1., 1., 1., 1., 1., 1., 1., 1., 1., 1., 1., 1., 1., 1.,\n",
       "       1., 1., 1., 1., 1., 1., 1., 1., 1., 1., 1., 1., 1., 1., 1., 1., 1.,\n",
       "       1., 1., 1., 1., 1., 1., 1., 1., 1., 1., 1., 1., 1., 1., 1., 1., 1.,\n",
       "       1., 1., 1., 1., 1., 1., 1., 1., 1., 1., 1., 1., 1., 1., 1., 1., 1.,\n",
       "       1., 1., 1., 1., 1., 1., 1., 1., 1., 1., 1., 1., 1., 1., 1., 1., 1.,\n",
       "       1., 1., 1., 1., 1., 1., 1., 1., 1., 1., 1., 1., 1., 1., 1., 1., 1.,\n",
       "       1., 1., 1., 1., 1., 1., 1., 1., 1., 1., 1., 1., 1., 1., 1., 1., 1.,\n",
       "       1., 1., 1., 1., 1., 1., 1., 1., 1., 1., 1., 1., 1., 1., 1., 1., 1.,\n",
       "       1., 1., 1., 1., 1., 1., 1., 1., 1., 1., 1., 1., 1., 1., 1., 1., 1.,\n",
       "       1., 1., 1., 1., 1., 1., 1., 1., 1., 1., 1., 1., 1., 1., 1., 1., 1.,\n",
       "       1., 1., 1., 1., 1., 1., 1., 1., 1., 1., 1., 1., 1., 1., 1., 1., 1.,\n",
       "       1., 1., 1., 1., 1., 1., 1., 1., 1., 1., 1., 1., 1., 1., 1., 1., 1.,\n",
       "       1., 1., 1., 1., 1., 1., 1., 1., 1., 1., 1., 1., 1., 1., 1., 1., 1.,\n",
       "       1., 1., 1., 1., 1., 1., 1., 1., 1., 1., 1., 1., 1., 1., 1., 1., 1.,\n",
       "       1., 1., 1., 1., 1., 1., 1., 1., 1., 1., 1., 1., 1., 1., 1., 1., 1.,\n",
       "       1., 1., 1., 1., 1., 1., 1., 1., 1., 1., 1., 1., 1., 1., 1., 1., 1.,\n",
       "       1., 1., 1., 1., 1., 1., 1., 1., 1., 1., 1., 1., 1., 1., 1., 1., 1.,\n",
       "       1., 1., 1., 1., 1., 1., 1., 1., 1., 1., 1., 1., 1., 1.])</pre></div></li><li class='xr-var-item'><div class='xr-var-name'><span>Qup</span></div><div class='xr-var-dims'>()</div><div class='xr-var-dtype'>float64</div><div class='xr-var-preview xr-preview'>0.0</div><input id='attrs-e1c1c54c-b69d-4288-b7a5-4cb392284750' class='xr-var-attrs-in' type='checkbox' ><label for='attrs-e1c1c54c-b69d-4288-b7a5-4cb392284750' title='Show/Hide attributes'><svg class='icon xr-icon-file-text2'><use xlink:href='#icon-file-text2'></use></svg></label><input id='data-01ca5dc0-1a0c-4382-9717-bd95f24b87ef' class='xr-var-data-in' type='checkbox'><label for='data-01ca5dc0-1a0c-4382-9717-bd95f24b87ef' title='Show/Hide data repr'><svg class='icon xr-icon-database'><use xlink:href='#icon-database'></use></svg></label><div class='xr-var-attrs'><dl class='xr-attrs'><dt><span>description :</span></dt><dd>upstream forcing [m^3/s]</dd></dl></div><div class='xr-var-data'><pre>array(0.)</pre></div></li><li class='xr-var-item'><div class='xr-var-name'><span>Adown</span></div><div class='xr-var-dims'>()</div><div class='xr-var-dtype'>float64</div><div class='xr-var-preview xr-preview'>0.23</div><input id='attrs-833d9328-7b27-4297-92e3-2735bb5479a9' class='xr-var-attrs-in' type='checkbox' ><label for='attrs-833d9328-7b27-4297-92e3-2735bb5479a9' title='Show/Hide attributes'><svg class='icon xr-icon-file-text2'><use xlink:href='#icon-file-text2'></use></svg></label><input id='data-329fffd8-9285-4b5f-beb5-30e418f16ea6' class='xr-var-data-in' type='checkbox'><label for='data-329fffd8-9285-4b5f-beb5-30e418f16ea6' title='Show/Hide data repr'><svg class='icon xr-icon-database'><use xlink:href='#icon-database'></use></svg></label><div class='xr-var-attrs'><dl class='xr-attrs'><dt><span>description :</span></dt><dd>downstream reservoir cross section [m^2]</dd></dl></div><div class='xr-var-data'><pre>array(0.23)</pre></div></li></ul></div></li><li class='xr-section-item'><input id='section-a5716e59-84e2-41eb-8bc2-8aa76a0c0080' class='xr-section-summary-in' type='checkbox'  ><label for='section-a5716e59-84e2-41eb-8bc2-8aa76a0c0080' class='xr-section-summary' >Indexes: <span>(2)</span></label><div class='xr-section-inline-details'></div><div class='xr-section-details'><ul class='xr-var-list'><li class='xr-var-item'><div class='xr-index-name'><div>x</div></div><div class='xr-index-preview'>PandasIndex</div><input type='checkbox' disabled/><label></label><input id='index-7e80b0f7-69f8-41cb-b3d8-dcfba753d26b' class='xr-index-data-in' type='checkbox'/><label for='index-7e80b0f7-69f8-41cb-b3d8-dcfba753d26b' title='Show/Hide index repr'><svg class='icon xr-icon-database'><use xlink:href='#icon-database'></use></svg></label><div class='xr-index-data'><pre>PandasIndex(Index([                0.0,               0.025,                0.05,\n",
       "       0.07500000000000001,                 0.1,               0.125,\n",
       "       0.15000000000000002, 0.17500000000000002,                 0.2,\n",
       "                     0.225,\n",
       "       ...\n",
       "                     24.75,  24.775000000000002,                24.8,\n",
       "        24.825000000000003,               24.85,              24.875,\n",
       "        24.900000000000002,              24.925,  24.950000000000003,\n",
       "                    24.975],\n",
       "      dtype=&#x27;float64&#x27;, name=&#x27;x&#x27;, length=1000))</pre></div></li><li class='xr-var-item'><div class='xr-index-name'><div>time</div></div><div class='xr-index-preview'>PandasIndex</div><input type='checkbox' disabled/><label></label><input id='index-50b1abd2-a6d7-47e5-b741-ebff789949b6' class='xr-index-data-in' type='checkbox'/><label for='index-50b1abd2-a6d7-47e5-b741-ebff789949b6' title='Show/Hide index repr'><svg class='icon xr-icon-database'><use xlink:href='#icon-database'></use></svg></label><div class='xr-index-data'><pre>PandasIndex(Index([ 0.0, 0.25,  0.5, 0.75,  1.0, 1.25,  1.5, 1.75,  2.0, 2.25,  2.5, 2.75,\n",
       "        3.0, 3.25,  3.5, 3.75,  4.0, 4.25,  4.5, 4.75,  5.0, 5.25,  5.5, 5.75,\n",
       "        6.0, 6.25,  6.5, 6.75,  7.0, 7.25,  7.5],\n",
       "      dtype=&#x27;float64&#x27;, name=&#x27;time&#x27;))</pre></div></li></ul></div></li><li class='xr-section-item'><input id='section-c04a9770-8c9c-42e0-b1ec-fe9d2b3954b0' class='xr-section-summary-in' type='checkbox'  checked><label for='section-c04a9770-8c9c-42e0-b1ec-fe9d2b3954b0' class='xr-section-summary' >Attributes: <span>(1)</span></label><div class='xr-section-inline-details'></div><div class='xr-section-details'><dl class='xr-attrs'><dt><span>description :</span></dt><dd>Made with run_modelFVM(nTimes, saveT, dt, dx, zb, b, A, Q, Qup=Qup, Aup=None, kappa=0, A4=1e-4, Manning=0.0 * b, drylim=drylim, Adown=A[-1])</dd></dl></div></li></ul></div></div>"
      ],
      "text/plain": [
       "<xarray.Dataset> Size: 520kB\n",
       "Dimensions:  (x: 1000, time: 31)\n",
       "Coordinates:\n",
       "  * x        (x) float64 8kB 0.0 0.025 0.05 0.075 0.1 ... 24.9 24.93 24.95 24.98\n",
       "  * time     (time) float64 248B 0.0 0.25 0.5 0.75 1.0 ... 6.5 6.75 7.0 7.25 7.5\n",
       "Data variables:\n",
       "    A        (time, x) float64 248kB 0.33 0.33 0.33 0.33 ... 0.0 0.0 0.0 0.0\n",
       "    Q        (time, x) float64 248kB 0.0 0.0 0.0 0.0 0.0 ... 0.0 0.0 0.0 0.0 0.0\n",
       "    zb       (x) float64 8kB 0.0 0.0 0.0 0.0 0.0 0.0 ... 0.0 0.0 0.0 0.0 0.0 0.0\n",
       "    b        (x) float64 8kB 1.0 1.0 1.0 1.0 1.0 1.0 ... 1.0 1.0 1.0 1.0 1.0 1.0\n",
       "    Qup      float64 8B 0.0\n",
       "    Adown    float64 8B 0.23\n",
       "Attributes:\n",
       "    description:  Made with run_modelFVM(nTimes, saveT, dt, dx, zb, b, A, Q, ..."
      ]
     },
     "metadata": {},
     "output_type": "display_data"
    },
    {
     "data": {
      "application/vnd.jupyter.widget-view+json": {
       "model_id": "85a7ef49fa0d45198fcf842bed520ea6",
       "version_major": 2,
       "version_minor": 0
      },
      "image/png": "[encoded data removed]",
      "text/html": [
       "\n",
       "            <div style=\"display: inline-block;\">\n",
       "                <div class=\"jupyter-widgets widget-label\" style=\"text-align: center;\">\n",
       "                    Figure\n",
       "                </div>\n",
       "                <img src='data:image/png;base64,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' width=640.0/>\n",
       "            </div>\n",
       "        "
      ],
      "text/plain": [
       "Canvas(toolbar=Toolbar(toolitems=[('Home', 'Reset original view', 'home', 'home'), ('Back', 'Back to previous …"
      ]
     },
     "metadata": {},
     "output_type": "display_data"
    }
   ],
   "source": [
    "# Case 3 transcritical bump\n",
    "nTimes = 3_000\n",
    "saveT = 100\n",
    "dt = 0.01 / 4\n",
    "time = np.arange(0, dt*(nTimes+100), saveT*dt)\n",
    "\n",
    "dx = 0.1 / 4  # m \n",
    "nx = 250 * 4\n",
    "x = np.arange(0, dx*nx, dx)\n",
    "#x = x\n",
    "# width:\n",
    "b = np.ones(nx)  # width in m.\n",
    "\n",
    "Manning = 0.0014 + 0*b # friction\n",
    "Manning = 0.0 * Manning\n",
    "# Manning[:30] = 0\n",
    "drylim = 1e-10\n",
    "\n",
    "# Bottom\n",
    "zb = np.zeros(nx)\n",
    "#zb[(x>=8.0) & (x<=12)] = 0.2 - 0.05*(x[(x>=8.0) & (x<=12)]-10)**2\n",
    "#zb = 0.2*np.exp(-((x-10)/1.6)**2)\n",
    "\n",
    "# initial height\n",
    "h = 0.33 - zb\n",
    "h[x>12.5] = 0.23 - zb[x>12.5]\n",
    "A = h * b\n",
    "drylim=1e-3\n",
    "\n",
    "# inital flow\n",
    "Qup = 0.0\n",
    "u0 = Qup / A[0]\n",
    "print(Qup)\n",
    "\n",
    "Q = np.zeros(nx) + 0* u0*A # Flow rate m^3/s\n",
    "#Q = np.zeros(nx) + Qup # Flow rate m^3/s\n",
    "\n",
    "Q[(A/b)<drylim] = 0.0\n",
    "A[(A/b)<drylim]= drylim * b[(A/b)<drylim]\n",
    "\n",
    "\n",
    "if True:\n",
    "    saveA, saveQ = run_modelFVM(nTimes, saveT, dt, dx, zb, b, A, Q, Qup=Qup, Aup=None, \n",
    "                         kappa=0*3e-1/16, \n",
    "                         K4=20e-5/2**4, Manning=Manning, drylim=drylim, Adown=A[-1])\n",
    "    #saveA, saveQ = run_modelFVM(nTimes, saveT, dt, dx, zb, b, A, Q, Qup=Qup, Aup=None, \n",
    "    #                            kappa=.5e-1/16, Manning=0.0 * b, drylim=drylim, Adown=A[-1])\n",
    "    time = time[:(len(saveA[:, 0])+1)]\n",
    "    # Save the model output to a netcdf file.  \n",
    "    ds = xr.Dataset(coords={'x':x, 'time':time})\n",
    "    ds.attrs['description'] = 'Made with run_modelFVM(nTimes, saveT, dt, dx, zb, b, A, Q, Qup=Qup, Aup=None, kappa=0, A4=1e-4, Manning=0.0 * b, drylim=drylim, Adown=A[-1])'\n",
    "    ds['x'].attrs['description'] = 'x [m]'\n",
    "    ds['time'].attrs['description'] = 'time [s]'\n",
    "    ds['A'] = (('time', 'x'), saveA)\n",
    "    ds['A'].attrs['description'] =  'Cross-sectional area [m^2]'\n",
    "    \n",
    "    ds['Q'] = (('time', 'x'), saveQ)\n",
    "    ds['Q'].attrs['description'] =  'Flow rate [m^3/s]'\n",
    "    \n",
    "    ds['zb'] = (('x'), zb)\n",
    "    ds['zb'].attrs['description'] =  'topography [m]'\n",
    "    ds['b'] = (('x'), b)\n",
    "    ds['b'].attrs['description'] =  'channel width [m]'\n",
    "    ds['Qup'] = ((), Qup)\n",
    "    ds['Qup'].attrs['description'] =  'upstream forcing [m^3/s]'\n",
    "    ds['Adown'] = ((), A[-1])\n",
    "    ds['Adown'].attrs['description'] =  'downstream reservoir cross section [m^2]'\n",
    "    ds.to_netcdf('ModelRunAssign01_02B.nc')\n",
    "else: \n",
    "    ds = xr.open_dataset('ModelRunAssign01_02B.nc')\n",
    "\n",
    "fig, ax = plt.subplots()\n",
    "ax.plot(ds.x, ds.zb, linewidth=2, color='k')\n",
    "ax.plot(ds.x, ds.zb+ds.sel(time=0).A, linewidth=1, color='C0')\n",
    "ax.set(xlabel='x [m]', ylabel='z [m]', title='Initial conditions')\n",
    "\n",
    "display(ds)"
   ]
  },
  {
   "cell_type": "code",
   "execution_count": null,
   "id": "2399b445-f50f-4b7b-b1d0-d5de2167a16a",
   "metadata": {
    "editable": true,
    "slideshow": {
     "slide_type": ""
    },
    "tags": [
     "answer"
    ]
   },
   "outputs": [],
   "source": [
    "# Code/plotting answer here (use more cells if desired)"
   ]
  },
  {
   "cell_type": "code",
   "execution_count": null,
   "id": "6e430bb1-e205-4c07-b14f-d94487b5b811",
   "metadata": {
    "editable": true,
    "slideshow": {
     "slide_type": ""
    },
    "tags": [
     "answer"
    ]
   },
   "outputs": [],
   "source": [
    "# Code/plotting answer here (use more cells if desired)"
   ]
  },
  {
   "cell_type": "markdown",
   "id": "22359a38-73f5-44f0-b41f-c4435d9a2a30",
   "metadata": {
    "editable": true,
    "slideshow": {
     "slide_type": ""
    },
    "tags": [
     "answer"
    ]
   },
   "source": [
    "*Text/markdown answer here.*  (use more cells if desired)"
   ]
  },
  {
   "cell_type": "code",
   "execution_count": null,
   "id": "99a48fb3-aaf8-4795-8cfb-05f85cc95038",
   "metadata": {
    "editable": true,
    "slideshow": {
     "slide_type": ""
    },
    "tags": []
   },
   "outputs": [],
   "source": []
  }
 ],
 "metadata": {
  "kernelspec": {
   "display_name": "Python 3 (ipykernel)",
   "language": "python",
   "name": "python3"
  },
  "language_info": {
   "codemirror_mode": {
    "name": "ipython",
    "version": 3
   },
   "file_extension": ".py",
   "mimetype": "text/x-python",
   "name": "python",
   "nbconvert_exporter": "python",
   "pygments_lexer": "ipython3",
   "version": "3.12.2"
  },
  "widgets": {
   "application/vnd.jupyter.widget-state+json": {
    "state": {},
    "version_major": 2,
    "version_minor": 0
   }
  }
 },
 "nbformat": 4,
 "nbformat_minor": 5
}
